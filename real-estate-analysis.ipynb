{
 "cells": [
  {
   "cell_type": "markdown",
   "metadata": {},
   "source": [
    "# PAD - Final Project"
   ]
  },
  {
   "cell_type": "markdown",
   "metadata": {},
   "source": [
    "## Boston Housing"
   ]
  },
  {
   "cell_type": "code",
   "execution_count": 1,
   "metadata": {},
   "outputs": [],
   "source": [
    "import os\n",
    "import sys"
   ]
  },
  {
   "cell_type": "code",
   "execution_count": 2,
   "metadata": {},
   "outputs": [],
   "source": [
    "import pandas as pd\n",
    "import plotly.express as px\n",
    "import statsmodels.api as sm\n",
    "import tensorflow as tf\n",
    "\n",
    "from sklearn.metrics import r2_score\n",
    "from sklearn.model_selection import train_test_split\n",
    "from sklearn.preprocessing import MinMaxScaler\n",
    "from tensorflow import keras\n",
    "from tensorflow.keras import layers\n",
    "from tensorflow.keras.layers.experimental import preprocessing"
   ]
  },
  {
   "cell_type": "code",
   "execution_count": 3,
   "metadata": {},
   "outputs": [
    {
     "output_type": "stream",
     "name": "stdout",
     "text": [
      "(506, 14)\n"
     ]
    },
    {
     "output_type": "execute_result",
     "data": {
      "text/plain": [
       "      crim    zn  indus  chas    nox     rm   age     dis  rad  tax  ptratio  \\\n",
       "0  0.00632  18.0   2.31     0  0.538  6.575  65.2  4.0900    1  296     15.3   \n",
       "1  0.02731   0.0   7.07     0  0.469  6.421  78.9  4.9671    2  242     17.8   \n",
       "2  0.02729   0.0   7.07     0  0.469  7.185  61.1  4.9671    2  242     17.8   \n",
       "3  0.03237   0.0   2.18     0  0.458  6.998  45.8  6.0622    3  222     18.7   \n",
       "4  0.06905   0.0   2.18     0  0.458  7.147  54.2  6.0622    3  222     18.7   \n",
       "\n",
       "        b  lstat  medv  \n",
       "0  396.90   4.98  24.0  \n",
       "1  396.90   9.14  21.6  \n",
       "2  392.83   4.03  34.7  \n",
       "3  394.63   2.94  33.4  \n",
       "4  396.90   5.33  36.2  "
      ],
      "text/html": "<div>\n<style scoped>\n    .dataframe tbody tr th:only-of-type {\n        vertical-align: middle;\n    }\n\n    .dataframe tbody tr th {\n        vertical-align: top;\n    }\n\n    .dataframe thead th {\n        text-align: right;\n    }\n</style>\n<table border=\"1\" class=\"dataframe\">\n  <thead>\n    <tr style=\"text-align: right;\">\n      <th></th>\n      <th>crim</th>\n      <th>zn</th>\n      <th>indus</th>\n      <th>chas</th>\n      <th>nox</th>\n      <th>rm</th>\n      <th>age</th>\n      <th>dis</th>\n      <th>rad</th>\n      <th>tax</th>\n      <th>ptratio</th>\n      <th>b</th>\n      <th>lstat</th>\n      <th>medv</th>\n    </tr>\n  </thead>\n  <tbody>\n    <tr>\n      <th>0</th>\n      <td>0.00632</td>\n      <td>18.0</td>\n      <td>2.31</td>\n      <td>0</td>\n      <td>0.538</td>\n      <td>6.575</td>\n      <td>65.2</td>\n      <td>4.0900</td>\n      <td>1</td>\n      <td>296</td>\n      <td>15.3</td>\n      <td>396.90</td>\n      <td>4.98</td>\n      <td>24.0</td>\n    </tr>\n    <tr>\n      <th>1</th>\n      <td>0.02731</td>\n      <td>0.0</td>\n      <td>7.07</td>\n      <td>0</td>\n      <td>0.469</td>\n      <td>6.421</td>\n      <td>78.9</td>\n      <td>4.9671</td>\n      <td>2</td>\n      <td>242</td>\n      <td>17.8</td>\n      <td>396.90</td>\n      <td>9.14</td>\n      <td>21.6</td>\n    </tr>\n    <tr>\n      <th>2</th>\n      <td>0.02729</td>\n      <td>0.0</td>\n      <td>7.07</td>\n      <td>0</td>\n      <td>0.469</td>\n      <td>7.185</td>\n      <td>61.1</td>\n      <td>4.9671</td>\n      <td>2</td>\n      <td>242</td>\n      <td>17.8</td>\n      <td>392.83</td>\n      <td>4.03</td>\n      <td>34.7</td>\n    </tr>\n    <tr>\n      <th>3</th>\n      <td>0.03237</td>\n      <td>0.0</td>\n      <td>2.18</td>\n      <td>0</td>\n      <td>0.458</td>\n      <td>6.998</td>\n      <td>45.8</td>\n      <td>6.0622</td>\n      <td>3</td>\n      <td>222</td>\n      <td>18.7</td>\n      <td>394.63</td>\n      <td>2.94</td>\n      <td>33.4</td>\n    </tr>\n    <tr>\n      <th>4</th>\n      <td>0.06905</td>\n      <td>0.0</td>\n      <td>2.18</td>\n      <td>0</td>\n      <td>0.458</td>\n      <td>7.147</td>\n      <td>54.2</td>\n      <td>6.0622</td>\n      <td>3</td>\n      <td>222</td>\n      <td>18.7</td>\n      <td>396.90</td>\n      <td>5.33</td>\n      <td>36.2</td>\n    </tr>\n  </tbody>\n</table>\n</div>"
     },
     "metadata": {},
     "execution_count": 3
    }
   ],
   "source": [
    "df_boston_reald_estate = pd.read_csv('./BostonHousing.csv')\n",
    "print(df_boston_reald_estate.shape)\n",
    "df_boston_reald_estate.head()"
   ]
  },
  {
   "cell_type": "markdown",
   "metadata": {},
   "source": [
    "# Processing\n",
    "\n",
    "Ze wzgledu na własne preferncje zdecydowałem się, że zadania z tej części wygodniej bedzie zrobić w nieco zmienionej kolejności. Mam nadzięjeę, ze nie wpłynie to na ocenę."
   ]
  },
  {
   "cell_type": "markdown",
   "metadata": {},
   "source": [
    "\n",
    "### Zadanie 2 (6ptk)\n",
    "Usuń ze zbioru kolumną „Chas”. Dokonaj standaryzacji wszystkich kolumn poza „Medv”\n"
   ]
  },
  {
   "cell_type": "code",
   "execution_count": 4,
   "metadata": {},
   "outputs": [],
   "source": [
    "df_boston_reald_estate.drop(columns=['chas'], inplace=True)"
   ]
  },
  {
   "cell_type": "code",
   "execution_count": 5,
   "metadata": {},
   "outputs": [],
   "source": [
    "min_max_scaler = MinMaxScaler()"
   ]
  },
  {
   "cell_type": "code",
   "execution_count": 6,
   "metadata": {},
   "outputs": [],
   "source": [
    "columns_to_be_scaled = [\n",
    "    'crim', 'zn', 'indus', 'nox', \n",
    "    'rm', 'age', 'dis', 'rad', \n",
    "    'tax', 'ptratio', 'b', 'lstat'\n",
    "]"
   ]
  },
  {
   "cell_type": "code",
   "execution_count": 7,
   "metadata": {},
   "outputs": [],
   "source": [
    "df_boston_reald_estate[columns_to_be_scaled] = min_max_scaler.fit_transform(df_boston_reald_estate[columns_to_be_scaled])"
   ]
  },
  {
   "cell_type": "code",
   "execution_count": 8,
   "metadata": {},
   "outputs": [
    {
     "output_type": "execute_result",
     "data": {
      "text/plain": [
       "       crim    zn     indus       nox        rm       age       dis       rad  \\\n",
       "0  0.000000  0.18  0.067815  0.314815  0.577505  0.641607  0.269203  0.000000   \n",
       "1  0.000236  0.00  0.242302  0.172840  0.547998  0.782698  0.348962  0.043478   \n",
       "2  0.000236  0.00  0.242302  0.172840  0.694386  0.599382  0.348962  0.043478   \n",
       "3  0.000293  0.00  0.063050  0.150206  0.658555  0.441813  0.448545  0.086957   \n",
       "4  0.000705  0.00  0.063050  0.150206  0.687105  0.528321  0.448545  0.086957   \n",
       "\n",
       "        tax   ptratio         b     lstat  medv  \n",
       "0  0.208015  0.287234  1.000000  0.089680  24.0  \n",
       "1  0.104962  0.553191  1.000000  0.204470  21.6  \n",
       "2  0.104962  0.553191  0.989737  0.063466  34.7  \n",
       "3  0.066794  0.648936  0.994276  0.033389  33.4  \n",
       "4  0.066794  0.648936  1.000000  0.099338  36.2  "
      ],
      "text/html": "<div>\n<style scoped>\n    .dataframe tbody tr th:only-of-type {\n        vertical-align: middle;\n    }\n\n    .dataframe tbody tr th {\n        vertical-align: top;\n    }\n\n    .dataframe thead th {\n        text-align: right;\n    }\n</style>\n<table border=\"1\" class=\"dataframe\">\n  <thead>\n    <tr style=\"text-align: right;\">\n      <th></th>\n      <th>crim</th>\n      <th>zn</th>\n      <th>indus</th>\n      <th>nox</th>\n      <th>rm</th>\n      <th>age</th>\n      <th>dis</th>\n      <th>rad</th>\n      <th>tax</th>\n      <th>ptratio</th>\n      <th>b</th>\n      <th>lstat</th>\n      <th>medv</th>\n    </tr>\n  </thead>\n  <tbody>\n    <tr>\n      <th>0</th>\n      <td>0.000000</td>\n      <td>0.18</td>\n      <td>0.067815</td>\n      <td>0.314815</td>\n      <td>0.577505</td>\n      <td>0.641607</td>\n      <td>0.269203</td>\n      <td>0.000000</td>\n      <td>0.208015</td>\n      <td>0.287234</td>\n      <td>1.000000</td>\n      <td>0.089680</td>\n      <td>24.0</td>\n    </tr>\n    <tr>\n      <th>1</th>\n      <td>0.000236</td>\n      <td>0.00</td>\n      <td>0.242302</td>\n      <td>0.172840</td>\n      <td>0.547998</td>\n      <td>0.782698</td>\n      <td>0.348962</td>\n      <td>0.043478</td>\n      <td>0.104962</td>\n      <td>0.553191</td>\n      <td>1.000000</td>\n      <td>0.204470</td>\n      <td>21.6</td>\n    </tr>\n    <tr>\n      <th>2</th>\n      <td>0.000236</td>\n      <td>0.00</td>\n      <td>0.242302</td>\n      <td>0.172840</td>\n      <td>0.694386</td>\n      <td>0.599382</td>\n      <td>0.348962</td>\n      <td>0.043478</td>\n      <td>0.104962</td>\n      <td>0.553191</td>\n      <td>0.989737</td>\n      <td>0.063466</td>\n      <td>34.7</td>\n    </tr>\n    <tr>\n      <th>3</th>\n      <td>0.000293</td>\n      <td>0.00</td>\n      <td>0.063050</td>\n      <td>0.150206</td>\n      <td>0.658555</td>\n      <td>0.441813</td>\n      <td>0.448545</td>\n      <td>0.086957</td>\n      <td>0.066794</td>\n      <td>0.648936</td>\n      <td>0.994276</td>\n      <td>0.033389</td>\n      <td>33.4</td>\n    </tr>\n    <tr>\n      <th>4</th>\n      <td>0.000705</td>\n      <td>0.00</td>\n      <td>0.063050</td>\n      <td>0.150206</td>\n      <td>0.687105</td>\n      <td>0.528321</td>\n      <td>0.448545</td>\n      <td>0.086957</td>\n      <td>0.066794</td>\n      <td>0.648936</td>\n      <td>1.000000</td>\n      <td>0.099338</td>\n      <td>36.2</td>\n    </tr>\n  </tbody>\n</table>\n</div>"
     },
     "metadata": {},
     "execution_count": 8
    }
   ],
   "source": [
    "df_boston_reald_estate.head()"
   ]
  },
  {
   "cell_type": "markdown",
   "metadata": {},
   "source": [
    "### Zadanie 3 (6ptk)\n",
    "Przedstaw w formie heatmapy oraz ramki danych, macierz korelacji dla wszystkich kolumn danych."
   ]
  },
  {
   "cell_type": "code",
   "execution_count": 9,
   "metadata": {},
   "outputs": [
    {
     "output_type": "execute_result",
     "data": {
      "text/plain": [
       "             crim        zn     indus       nox        rm       age       dis  \\\n",
       "crim     1.000000 -0.200469  0.406583  0.420972 -0.219247  0.352734 -0.379670   \n",
       "zn      -0.200469  1.000000 -0.533828 -0.516604  0.311991 -0.569537  0.664408   \n",
       "indus    0.406583 -0.533828  1.000000  0.763651 -0.391676  0.644779 -0.708027   \n",
       "nox      0.420972 -0.516604  0.763651  1.000000 -0.302188  0.731470 -0.769230   \n",
       "rm      -0.219247  0.311991 -0.391676 -0.302188  1.000000 -0.240265  0.205246   \n",
       "age      0.352734 -0.569537  0.644779  0.731470 -0.240265  1.000000 -0.747881   \n",
       "dis     -0.379670  0.664408 -0.708027 -0.769230  0.205246 -0.747881  1.000000   \n",
       "rad      0.625505 -0.311948  0.595129  0.611441 -0.209847  0.456022 -0.494588   \n",
       "tax      0.582764 -0.314563  0.720760  0.668023 -0.292048  0.506456 -0.534432   \n",
       "ptratio  0.289946 -0.391679  0.383248  0.188933 -0.355501  0.261515 -0.232471   \n",
       "b       -0.385064  0.175520 -0.356977 -0.380051  0.128069 -0.273534  0.291512   \n",
       "lstat    0.455621 -0.412995  0.603800  0.590879 -0.613808  0.602339 -0.496996   \n",
       "medv    -0.388305  0.360445 -0.483725 -0.427321  0.695360 -0.376955  0.249929   \n",
       "\n",
       "              rad       tax   ptratio         b     lstat      medv  \n",
       "crim     0.625505  0.582764  0.289946 -0.385064  0.455621 -0.388305  \n",
       "zn      -0.311948 -0.314563 -0.391679  0.175520 -0.412995  0.360445  \n",
       "indus    0.595129  0.720760  0.383248 -0.356977  0.603800 -0.483725  \n",
       "nox      0.611441  0.668023  0.188933 -0.380051  0.590879 -0.427321  \n",
       "rm      -0.209847 -0.292048 -0.355501  0.128069 -0.613808  0.695360  \n",
       "age      0.456022  0.506456  0.261515 -0.273534  0.602339 -0.376955  \n",
       "dis     -0.494588 -0.534432 -0.232471  0.291512 -0.496996  0.249929  \n",
       "rad      1.000000  0.910228  0.464741 -0.444413  0.488676 -0.381626  \n",
       "tax      0.910228  1.000000  0.460853 -0.441808  0.543993 -0.468536  \n",
       "ptratio  0.464741  0.460853  1.000000 -0.177383  0.374044 -0.507787  \n",
       "b       -0.444413 -0.441808 -0.177383  1.000000 -0.366087  0.333461  \n",
       "lstat    0.488676  0.543993  0.374044 -0.366087  1.000000 -0.737663  \n",
       "medv    -0.381626 -0.468536 -0.507787  0.333461 -0.737663  1.000000  "
      ],
      "text/html": "<div>\n<style scoped>\n    .dataframe tbody tr th:only-of-type {\n        vertical-align: middle;\n    }\n\n    .dataframe tbody tr th {\n        vertical-align: top;\n    }\n\n    .dataframe thead th {\n        text-align: right;\n    }\n</style>\n<table border=\"1\" class=\"dataframe\">\n  <thead>\n    <tr style=\"text-align: right;\">\n      <th></th>\n      <th>crim</th>\n      <th>zn</th>\n      <th>indus</th>\n      <th>nox</th>\n      <th>rm</th>\n      <th>age</th>\n      <th>dis</th>\n      <th>rad</th>\n      <th>tax</th>\n      <th>ptratio</th>\n      <th>b</th>\n      <th>lstat</th>\n      <th>medv</th>\n    </tr>\n  </thead>\n  <tbody>\n    <tr>\n      <th>crim</th>\n      <td>1.000000</td>\n      <td>-0.200469</td>\n      <td>0.406583</td>\n      <td>0.420972</td>\n      <td>-0.219247</td>\n      <td>0.352734</td>\n      <td>-0.379670</td>\n      <td>0.625505</td>\n      <td>0.582764</td>\n      <td>0.289946</td>\n      <td>-0.385064</td>\n      <td>0.455621</td>\n      <td>-0.388305</td>\n    </tr>\n    <tr>\n      <th>zn</th>\n      <td>-0.200469</td>\n      <td>1.000000</td>\n      <td>-0.533828</td>\n      <td>-0.516604</td>\n      <td>0.311991</td>\n      <td>-0.569537</td>\n      <td>0.664408</td>\n      <td>-0.311948</td>\n      <td>-0.314563</td>\n      <td>-0.391679</td>\n      <td>0.175520</td>\n      <td>-0.412995</td>\n      <td>0.360445</td>\n    </tr>\n    <tr>\n      <th>indus</th>\n      <td>0.406583</td>\n      <td>-0.533828</td>\n      <td>1.000000</td>\n      <td>0.763651</td>\n      <td>-0.391676</td>\n      <td>0.644779</td>\n      <td>-0.708027</td>\n      <td>0.595129</td>\n      <td>0.720760</td>\n      <td>0.383248</td>\n      <td>-0.356977</td>\n      <td>0.603800</td>\n      <td>-0.483725</td>\n    </tr>\n    <tr>\n      <th>nox</th>\n      <td>0.420972</td>\n      <td>-0.516604</td>\n      <td>0.763651</td>\n      <td>1.000000</td>\n      <td>-0.302188</td>\n      <td>0.731470</td>\n      <td>-0.769230</td>\n      <td>0.611441</td>\n      <td>0.668023</td>\n      <td>0.188933</td>\n      <td>-0.380051</td>\n      <td>0.590879</td>\n      <td>-0.427321</td>\n    </tr>\n    <tr>\n      <th>rm</th>\n      <td>-0.219247</td>\n      <td>0.311991</td>\n      <td>-0.391676</td>\n      <td>-0.302188</td>\n      <td>1.000000</td>\n      <td>-0.240265</td>\n      <td>0.205246</td>\n      <td>-0.209847</td>\n      <td>-0.292048</td>\n      <td>-0.355501</td>\n      <td>0.128069</td>\n      <td>-0.613808</td>\n      <td>0.695360</td>\n    </tr>\n    <tr>\n      <th>age</th>\n      <td>0.352734</td>\n      <td>-0.569537</td>\n      <td>0.644779</td>\n      <td>0.731470</td>\n      <td>-0.240265</td>\n      <td>1.000000</td>\n      <td>-0.747881</td>\n      <td>0.456022</td>\n      <td>0.506456</td>\n      <td>0.261515</td>\n      <td>-0.273534</td>\n      <td>0.602339</td>\n      <td>-0.376955</td>\n    </tr>\n    <tr>\n      <th>dis</th>\n      <td>-0.379670</td>\n      <td>0.664408</td>\n      <td>-0.708027</td>\n      <td>-0.769230</td>\n      <td>0.205246</td>\n      <td>-0.747881</td>\n      <td>1.000000</td>\n      <td>-0.494588</td>\n      <td>-0.534432</td>\n      <td>-0.232471</td>\n      <td>0.291512</td>\n      <td>-0.496996</td>\n      <td>0.249929</td>\n    </tr>\n    <tr>\n      <th>rad</th>\n      <td>0.625505</td>\n      <td>-0.311948</td>\n      <td>0.595129</td>\n      <td>0.611441</td>\n      <td>-0.209847</td>\n      <td>0.456022</td>\n      <td>-0.494588</td>\n      <td>1.000000</td>\n      <td>0.910228</td>\n      <td>0.464741</td>\n      <td>-0.444413</td>\n      <td>0.488676</td>\n      <td>-0.381626</td>\n    </tr>\n    <tr>\n      <th>tax</th>\n      <td>0.582764</td>\n      <td>-0.314563</td>\n      <td>0.720760</td>\n      <td>0.668023</td>\n      <td>-0.292048</td>\n      <td>0.506456</td>\n      <td>-0.534432</td>\n      <td>0.910228</td>\n      <td>1.000000</td>\n      <td>0.460853</td>\n      <td>-0.441808</td>\n      <td>0.543993</td>\n      <td>-0.468536</td>\n    </tr>\n    <tr>\n      <th>ptratio</th>\n      <td>0.289946</td>\n      <td>-0.391679</td>\n      <td>0.383248</td>\n      <td>0.188933</td>\n      <td>-0.355501</td>\n      <td>0.261515</td>\n      <td>-0.232471</td>\n      <td>0.464741</td>\n      <td>0.460853</td>\n      <td>1.000000</td>\n      <td>-0.177383</td>\n      <td>0.374044</td>\n      <td>-0.507787</td>\n    </tr>\n    <tr>\n      <th>b</th>\n      <td>-0.385064</td>\n      <td>0.175520</td>\n      <td>-0.356977</td>\n      <td>-0.380051</td>\n      <td>0.128069</td>\n      <td>-0.273534</td>\n      <td>0.291512</td>\n      <td>-0.444413</td>\n      <td>-0.441808</td>\n      <td>-0.177383</td>\n      <td>1.000000</td>\n      <td>-0.366087</td>\n      <td>0.333461</td>\n    </tr>\n    <tr>\n      <th>lstat</th>\n      <td>0.455621</td>\n      <td>-0.412995</td>\n      <td>0.603800</td>\n      <td>0.590879</td>\n      <td>-0.613808</td>\n      <td>0.602339</td>\n      <td>-0.496996</td>\n      <td>0.488676</td>\n      <td>0.543993</td>\n      <td>0.374044</td>\n      <td>-0.366087</td>\n      <td>1.000000</td>\n      <td>-0.737663</td>\n    </tr>\n    <tr>\n      <th>medv</th>\n      <td>-0.388305</td>\n      <td>0.360445</td>\n      <td>-0.483725</td>\n      <td>-0.427321</td>\n      <td>0.695360</td>\n      <td>-0.376955</td>\n      <td>0.249929</td>\n      <td>-0.381626</td>\n      <td>-0.468536</td>\n      <td>-0.507787</td>\n      <td>0.333461</td>\n      <td>-0.737663</td>\n      <td>1.000000</td>\n    </tr>\n  </tbody>\n</table>\n</div>"
     },
     "metadata": {},
     "execution_count": 9
    }
   ],
   "source": [
    "df_corrs = df_boston_reald_estate.corr()\n",
    "df_corrs"
   ]
  },
  {
   "cell_type": "code",
   "execution_count": 10,
   "metadata": {},
   "outputs": [
    {
     "output_type": "display_data",
     "data": {
      "application/vnd.plotly.v1+json": {
       "config": {
        "plotlyServerURL": "https://plot.ly"
       },
       "data": [
        {
         "coloraxis": "coloraxis",
         "hovertemplate": "x: %{x}<br>y: %{y}<br>color: %{z}<extra></extra>",
         "name": "0",
         "type": "heatmap",
         "x": [
          "crim",
          "zn",
          "indus",
          "nox",
          "rm",
          "age",
          "dis",
          "rad",
          "tax",
          "ptratio",
          "b",
          "lstat",
          "medv"
         ],
         "xaxis": "x",
         "y": [
          "crim",
          "zn",
          "indus",
          "nox",
          "rm",
          "age",
          "dis",
          "rad",
          "tax",
          "ptratio",
          "b",
          "lstat",
          "medv"
         ],
         "yaxis": "y",
         "z": [
          [
           1,
           -0.20046921966254727,
           0.4065834114062591,
           0.4209717113924561,
           -0.2192467028625134,
           0.35273425090136395,
           -0.3796700869510243,
           0.6255051452626018,
           0.5827643120325848,
           0.28994557927952014,
           -0.3850639419942239,
           0.45562147944794634,
           -0.38830460858681154
          ],
          [
           -0.20046921966254727,
           1,
           -0.5338281863044698,
           -0.5166037078279841,
           0.31199058737409013,
           -0.5695373420992113,
           0.6644082227621095,
           -0.31194782601853666,
           -0.3145633246775993,
           -0.39167854793621515,
           0.17552031738282722,
           -0.4129945745270033,
           0.3604453424505433
          ],
          [
           0.4065834114062591,
           -0.5338281863044698,
           1,
           0.7636514469209148,
           -0.39167585265684246,
           0.644778511355255,
           -0.7080269887427678,
           0.5951292746038486,
           0.7207601799515422,
           0.38324755642888714,
           -0.35697653510419214,
           0.6037997164766219,
           -0.48372516002837274
          ],
          [
           0.4209717113924561,
           -0.5166037078279841,
           0.7636514469209148,
           1,
           -0.3021881878495931,
           0.7314701037859581,
           -0.7692301132258282,
           0.611440563485578,
           0.6680232004030231,
           0.18893267711276782,
           -0.38005063779240056,
           0.5908789208808467,
           -0.42732077237328286
          ],
          [
           -0.2192467028625134,
           0.31199058737409013,
           -0.39167585265684246,
           -0.3021881878495931,
           1,
           -0.24026493104775104,
           0.20524621293005443,
           -0.20984666776610789,
           -0.2920478326232185,
           -0.355501494559085,
           0.12806863509254282,
           -0.6138082718663953,
           0.6953599470715397
          ],
          [
           0.35273425090136395,
           -0.5695373420992113,
           0.644778511355255,
           0.7314701037859581,
           -0.24026493104775104,
           1,
           -0.7478805408686315,
           0.4560224517516142,
           0.5064555935507054,
           0.2615150116719579,
           -0.273533976638513,
           0.6023385287262403,
           -0.37695456500459623
          ],
          [
           -0.3796700869510243,
           0.6644082227621095,
           -0.7080269887427678,
           -0.7692301132258282,
           0.20524621293005443,
           -0.7478805408686315,
           1,
           -0.49458792967207565,
           -0.5344315844084567,
           -0.23247054240825687,
           0.29151167313303933,
           -0.49699583086368554,
           0.24992873408590413
          ],
          [
           0.6255051452626018,
           -0.31194782601853666,
           0.5951292746038486,
           0.611440563485578,
           -0.20984666776610789,
           0.4560224517516142,
           -0.49458792967207565,
           1,
           0.9102281885331874,
           0.4647411785030562,
           -0.4444128155751254,
           0.48867633497506774,
           -0.3816262306397776
          ],
          [
           0.5827643120325848,
           -0.3145633246775993,
           0.7207601799515422,
           0.6680232004030231,
           -0.2920478326232185,
           0.5064555935507054,
           -0.5344315844084567,
           0.9102281885331874,
           1,
           0.4608530350656664,
           -0.44180800672281384,
           0.5439934120015706,
           -0.4685359335677667
          ],
          [
           0.28994557927952014,
           -0.39167854793621515,
           0.38324755642888714,
           0.18893267711276782,
           -0.355501494559085,
           0.2615150116719579,
           -0.23247054240825687,
           0.4647411785030562,
           0.4608530350656664,
           1,
           -0.17738330230523183,
           0.3740443167146762,
           -0.5077866855375609
          ],
          [
           -0.3850639419942239,
           0.17552031738282722,
           -0.35697653510419214,
           -0.38005063779240056,
           0.12806863509254282,
           -0.273533976638513,
           0.29151167313303933,
           -0.4444128155751254,
           -0.44180800672281384,
           -0.17738330230523183,
           1,
           -0.3660869016915967,
           0.3334608196570665
          ],
          [
           0.45562147944794634,
           -0.4129945745270033,
           0.6037997164766219,
           0.5908789208808467,
           -0.6138082718663953,
           0.6023385287262403,
           -0.49699583086368554,
           0.48867633497506774,
           0.5439934120015706,
           0.3740443167146762,
           -0.3660869016915967,
           1,
           -0.7376627261740151
          ],
          [
           -0.38830460858681154,
           0.3604453424505433,
           -0.48372516002837274,
           -0.42732077237328286,
           0.6953599470715397,
           -0.37695456500459623,
           0.24992873408590413,
           -0.3816262306397776,
           -0.4685359335677667,
           -0.5077866855375609,
           0.3334608196570665,
           -0.7376627261740151,
           1
          ]
         ]
        }
       ],
       "layout": {
        "coloraxis": {
         "colorscale": [
          [
           0,
           "#0d0887"
          ],
          [
           0.1111111111111111,
           "#46039f"
          ],
          [
           0.2222222222222222,
           "#7201a8"
          ],
          [
           0.3333333333333333,
           "#9c179e"
          ],
          [
           0.4444444444444444,
           "#bd3786"
          ],
          [
           0.5555555555555556,
           "#d8576b"
          ],
          [
           0.6666666666666666,
           "#ed7953"
          ],
          [
           0.7777777777777778,
           "#fb9f3a"
          ],
          [
           0.8888888888888888,
           "#fdca26"
          ],
          [
           1,
           "#f0f921"
          ]
         ]
        },
        "margin": {
         "t": 60
        },
        "template": {
         "data": {
          "bar": [
           {
            "error_x": {
             "color": "#2a3f5f"
            },
            "error_y": {
             "color": "#2a3f5f"
            },
            "marker": {
             "line": {
              "color": "#E5ECF6",
              "width": 0.5
             }
            },
            "type": "bar"
           }
          ],
          "barpolar": [
           {
            "marker": {
             "line": {
              "color": "#E5ECF6",
              "width": 0.5
             }
            },
            "type": "barpolar"
           }
          ],
          "carpet": [
           {
            "aaxis": {
             "endlinecolor": "#2a3f5f",
             "gridcolor": "white",
             "linecolor": "white",
             "minorgridcolor": "white",
             "startlinecolor": "#2a3f5f"
            },
            "baxis": {
             "endlinecolor": "#2a3f5f",
             "gridcolor": "white",
             "linecolor": "white",
             "minorgridcolor": "white",
             "startlinecolor": "#2a3f5f"
            },
            "type": "carpet"
           }
          ],
          "choropleth": [
           {
            "colorbar": {
             "outlinewidth": 0,
             "ticks": ""
            },
            "type": "choropleth"
           }
          ],
          "contour": [
           {
            "colorbar": {
             "outlinewidth": 0,
             "ticks": ""
            },
            "colorscale": [
             [
              0,
              "#0d0887"
             ],
             [
              0.1111111111111111,
              "#46039f"
             ],
             [
              0.2222222222222222,
              "#7201a8"
             ],
             [
              0.3333333333333333,
              "#9c179e"
             ],
             [
              0.4444444444444444,
              "#bd3786"
             ],
             [
              0.5555555555555556,
              "#d8576b"
             ],
             [
              0.6666666666666666,
              "#ed7953"
             ],
             [
              0.7777777777777778,
              "#fb9f3a"
             ],
             [
              0.8888888888888888,
              "#fdca26"
             ],
             [
              1,
              "#f0f921"
             ]
            ],
            "type": "contour"
           }
          ],
          "contourcarpet": [
           {
            "colorbar": {
             "outlinewidth": 0,
             "ticks": ""
            },
            "type": "contourcarpet"
           }
          ],
          "heatmap": [
           {
            "colorbar": {
             "outlinewidth": 0,
             "ticks": ""
            },
            "colorscale": [
             [
              0,
              "#0d0887"
             ],
             [
              0.1111111111111111,
              "#46039f"
             ],
             [
              0.2222222222222222,
              "#7201a8"
             ],
             [
              0.3333333333333333,
              "#9c179e"
             ],
             [
              0.4444444444444444,
              "#bd3786"
             ],
             [
              0.5555555555555556,
              "#d8576b"
             ],
             [
              0.6666666666666666,
              "#ed7953"
             ],
             [
              0.7777777777777778,
              "#fb9f3a"
             ],
             [
              0.8888888888888888,
              "#fdca26"
             ],
             [
              1,
              "#f0f921"
             ]
            ],
            "type": "heatmap"
           }
          ],
          "heatmapgl": [
           {
            "colorbar": {
             "outlinewidth": 0,
             "ticks": ""
            },
            "colorscale": [
             [
              0,
              "#0d0887"
             ],
             [
              0.1111111111111111,
              "#46039f"
             ],
             [
              0.2222222222222222,
              "#7201a8"
             ],
             [
              0.3333333333333333,
              "#9c179e"
             ],
             [
              0.4444444444444444,
              "#bd3786"
             ],
             [
              0.5555555555555556,
              "#d8576b"
             ],
             [
              0.6666666666666666,
              "#ed7953"
             ],
             [
              0.7777777777777778,
              "#fb9f3a"
             ],
             [
              0.8888888888888888,
              "#fdca26"
             ],
             [
              1,
              "#f0f921"
             ]
            ],
            "type": "heatmapgl"
           }
          ],
          "histogram": [
           {
            "marker": {
             "colorbar": {
              "outlinewidth": 0,
              "ticks": ""
             }
            },
            "type": "histogram"
           }
          ],
          "histogram2d": [
           {
            "colorbar": {
             "outlinewidth": 0,
             "ticks": ""
            },
            "colorscale": [
             [
              0,
              "#0d0887"
             ],
             [
              0.1111111111111111,
              "#46039f"
             ],
             [
              0.2222222222222222,
              "#7201a8"
             ],
             [
              0.3333333333333333,
              "#9c179e"
             ],
             [
              0.4444444444444444,
              "#bd3786"
             ],
             [
              0.5555555555555556,
              "#d8576b"
             ],
             [
              0.6666666666666666,
              "#ed7953"
             ],
             [
              0.7777777777777778,
              "#fb9f3a"
             ],
             [
              0.8888888888888888,
              "#fdca26"
             ],
             [
              1,
              "#f0f921"
             ]
            ],
            "type": "histogram2d"
           }
          ],
          "histogram2dcontour": [
           {
            "colorbar": {
             "outlinewidth": 0,
             "ticks": ""
            },
            "colorscale": [
             [
              0,
              "#0d0887"
             ],
             [
              0.1111111111111111,
              "#46039f"
             ],
             [
              0.2222222222222222,
              "#7201a8"
             ],
             [
              0.3333333333333333,
              "#9c179e"
             ],
             [
              0.4444444444444444,
              "#bd3786"
             ],
             [
              0.5555555555555556,
              "#d8576b"
             ],
             [
              0.6666666666666666,
              "#ed7953"
             ],
             [
              0.7777777777777778,
              "#fb9f3a"
             ],
             [
              0.8888888888888888,
              "#fdca26"
             ],
             [
              1,
              "#f0f921"
             ]
            ],
            "type": "histogram2dcontour"
           }
          ],
          "mesh3d": [
           {
            "colorbar": {
             "outlinewidth": 0,
             "ticks": ""
            },
            "type": "mesh3d"
           }
          ],
          "parcoords": [
           {
            "line": {
             "colorbar": {
              "outlinewidth": 0,
              "ticks": ""
             }
            },
            "type": "parcoords"
           }
          ],
          "pie": [
           {
            "automargin": true,
            "type": "pie"
           }
          ],
          "scatter": [
           {
            "marker": {
             "colorbar": {
              "outlinewidth": 0,
              "ticks": ""
             }
            },
            "type": "scatter"
           }
          ],
          "scatter3d": [
           {
            "line": {
             "colorbar": {
              "outlinewidth": 0,
              "ticks": ""
             }
            },
            "marker": {
             "colorbar": {
              "outlinewidth": 0,
              "ticks": ""
             }
            },
            "type": "scatter3d"
           }
          ],
          "scattercarpet": [
           {
            "marker": {
             "colorbar": {
              "outlinewidth": 0,
              "ticks": ""
             }
            },
            "type": "scattercarpet"
           }
          ],
          "scattergeo": [
           {
            "marker": {
             "colorbar": {
              "outlinewidth": 0,
              "ticks": ""
             }
            },
            "type": "scattergeo"
           }
          ],
          "scattergl": [
           {
            "marker": {
             "colorbar": {
              "outlinewidth": 0,
              "ticks": ""
             }
            },
            "type": "scattergl"
           }
          ],
          "scattermapbox": [
           {
            "marker": {
             "colorbar": {
              "outlinewidth": 0,
              "ticks": ""
             }
            },
            "type": "scattermapbox"
           }
          ],
          "scatterpolar": [
           {
            "marker": {
             "colorbar": {
              "outlinewidth": 0,
              "ticks": ""
             }
            },
            "type": "scatterpolar"
           }
          ],
          "scatterpolargl": [
           {
            "marker": {
             "colorbar": {
              "outlinewidth": 0,
              "ticks": ""
             }
            },
            "type": "scatterpolargl"
           }
          ],
          "scatterternary": [
           {
            "marker": {
             "colorbar": {
              "outlinewidth": 0,
              "ticks": ""
             }
            },
            "type": "scatterternary"
           }
          ],
          "surface": [
           {
            "colorbar": {
             "outlinewidth": 0,
             "ticks": ""
            },
            "colorscale": [
             [
              0,
              "#0d0887"
             ],
             [
              0.1111111111111111,
              "#46039f"
             ],
             [
              0.2222222222222222,
              "#7201a8"
             ],
             [
              0.3333333333333333,
              "#9c179e"
             ],
             [
              0.4444444444444444,
              "#bd3786"
             ],
             [
              0.5555555555555556,
              "#d8576b"
             ],
             [
              0.6666666666666666,
              "#ed7953"
             ],
             [
              0.7777777777777778,
              "#fb9f3a"
             ],
             [
              0.8888888888888888,
              "#fdca26"
             ],
             [
              1,
              "#f0f921"
             ]
            ],
            "type": "surface"
           }
          ],
          "table": [
           {
            "cells": {
             "fill": {
              "color": "#EBF0F8"
             },
             "line": {
              "color": "white"
             }
            },
            "header": {
             "fill": {
              "color": "#C8D4E3"
             },
             "line": {
              "color": "white"
             }
            },
            "type": "table"
           }
          ]
         },
         "layout": {
          "annotationdefaults": {
           "arrowcolor": "#2a3f5f",
           "arrowhead": 0,
           "arrowwidth": 1
          },
          "autotypenumbers": "strict",
          "coloraxis": {
           "colorbar": {
            "outlinewidth": 0,
            "ticks": ""
           }
          },
          "colorscale": {
           "diverging": [
            [
             0,
             "#8e0152"
            ],
            [
             0.1,
             "#c51b7d"
            ],
            [
             0.2,
             "#de77ae"
            ],
            [
             0.3,
             "#f1b6da"
            ],
            [
             0.4,
             "#fde0ef"
            ],
            [
             0.5,
             "#f7f7f7"
            ],
            [
             0.6,
             "#e6f5d0"
            ],
            [
             0.7,
             "#b8e186"
            ],
            [
             0.8,
             "#7fbc41"
            ],
            [
             0.9,
             "#4d9221"
            ],
            [
             1,
             "#276419"
            ]
           ],
           "sequential": [
            [
             0,
             "#0d0887"
            ],
            [
             0.1111111111111111,
             "#46039f"
            ],
            [
             0.2222222222222222,
             "#7201a8"
            ],
            [
             0.3333333333333333,
             "#9c179e"
            ],
            [
             0.4444444444444444,
             "#bd3786"
            ],
            [
             0.5555555555555556,
             "#d8576b"
            ],
            [
             0.6666666666666666,
             "#ed7953"
            ],
            [
             0.7777777777777778,
             "#fb9f3a"
            ],
            [
             0.8888888888888888,
             "#fdca26"
            ],
            [
             1,
             "#f0f921"
            ]
           ],
           "sequentialminus": [
            [
             0,
             "#0d0887"
            ],
            [
             0.1111111111111111,
             "#46039f"
            ],
            [
             0.2222222222222222,
             "#7201a8"
            ],
            [
             0.3333333333333333,
             "#9c179e"
            ],
            [
             0.4444444444444444,
             "#bd3786"
            ],
            [
             0.5555555555555556,
             "#d8576b"
            ],
            [
             0.6666666666666666,
             "#ed7953"
            ],
            [
             0.7777777777777778,
             "#fb9f3a"
            ],
            [
             0.8888888888888888,
             "#fdca26"
            ],
            [
             1,
             "#f0f921"
            ]
           ]
          },
          "colorway": [
           "#636efa",
           "#EF553B",
           "#00cc96",
           "#ab63fa",
           "#FFA15A",
           "#19d3f3",
           "#FF6692",
           "#B6E880",
           "#FF97FF",
           "#FECB52"
          ],
          "font": {
           "color": "#2a3f5f"
          },
          "geo": {
           "bgcolor": "white",
           "lakecolor": "white",
           "landcolor": "#E5ECF6",
           "showlakes": true,
           "showland": true,
           "subunitcolor": "white"
          },
          "hoverlabel": {
           "align": "left"
          },
          "hovermode": "closest",
          "mapbox": {
           "style": "light"
          },
          "paper_bgcolor": "white",
          "plot_bgcolor": "#E5ECF6",
          "polar": {
           "angularaxis": {
            "gridcolor": "white",
            "linecolor": "white",
            "ticks": ""
           },
           "bgcolor": "#E5ECF6",
           "radialaxis": {
            "gridcolor": "white",
            "linecolor": "white",
            "ticks": ""
           }
          },
          "scene": {
           "xaxis": {
            "backgroundcolor": "#E5ECF6",
            "gridcolor": "white",
            "gridwidth": 2,
            "linecolor": "white",
            "showbackground": true,
            "ticks": "",
            "zerolinecolor": "white"
           },
           "yaxis": {
            "backgroundcolor": "#E5ECF6",
            "gridcolor": "white",
            "gridwidth": 2,
            "linecolor": "white",
            "showbackground": true,
            "ticks": "",
            "zerolinecolor": "white"
           },
           "zaxis": {
            "backgroundcolor": "#E5ECF6",
            "gridcolor": "white",
            "gridwidth": 2,
            "linecolor": "white",
            "showbackground": true,
            "ticks": "",
            "zerolinecolor": "white"
           }
          },
          "shapedefaults": {
           "line": {
            "color": "#2a3f5f"
           }
          },
          "ternary": {
           "aaxis": {
            "gridcolor": "white",
            "linecolor": "white",
            "ticks": ""
           },
           "baxis": {
            "gridcolor": "white",
            "linecolor": "white",
            "ticks": ""
           },
           "bgcolor": "#E5ECF6",
           "caxis": {
            "gridcolor": "white",
            "linecolor": "white",
            "ticks": ""
           }
          },
          "title": {
           "x": 0.05
          },
          "xaxis": {
           "automargin": true,
           "gridcolor": "white",
           "linecolor": "white",
           "ticks": "",
           "title": {
            "standoff": 15
           },
           "zerolinecolor": "white",
           "zerolinewidth": 2
          },
          "yaxis": {
           "automargin": true,
           "gridcolor": "white",
           "linecolor": "white",
           "ticks": "",
           "title": {
            "standoff": 15
           },
           "zerolinecolor": "white",
           "zerolinewidth": 2
          }
         }
        },
        "xaxis": {
         "anchor": "y",
         "constrain": "domain",
         "domain": [
          0,
          1
         ],
         "scaleanchor": "y"
        },
        "yaxis": {
         "anchor": "x",
         "autorange": "reversed",
         "constrain": "domain",
         "domain": [
          0,
          1
         ]
        }
       }
      }
     },
     "metadata": {}
    }
   ],
   "source": [
    "fig = px.imshow(df_corrs)\n",
    "fig.show()"
   ]
  },
  {
   "cell_type": "markdown",
   "metadata": {},
   "source": [
    "### Zadanie 1 (6ptk)\n",
    "Dokonaj podziału danych na zbiór treningowy i test w proporcji 0,75/0,25."
   ]
  },
  {
   "cell_type": "code",
   "execution_count": 11,
   "metadata": {},
   "outputs": [],
   "source": [
    "features = columns_to_be_scaled"
   ]
  },
  {
   "cell_type": "code",
   "execution_count": 12,
   "metadata": {},
   "outputs": [],
   "source": [
    "X, y = df_boston_reald_estate[features], df_boston_reald_estate[['medv']]"
   ]
  },
  {
   "cell_type": "code",
   "execution_count": 13,
   "metadata": {},
   "outputs": [
    {
     "output_type": "execute_result",
     "data": {
      "text/plain": [
       "         crim    zn     indus       nox        rm       age       dis  \\\n",
       "0    0.000000  0.18  0.067815  0.314815  0.577505  0.641607  0.269203   \n",
       "1    0.000236  0.00  0.242302  0.172840  0.547998  0.782698  0.348962   \n",
       "2    0.000236  0.00  0.242302  0.172840  0.694386  0.599382  0.348962   \n",
       "3    0.000293  0.00  0.063050  0.150206  0.658555  0.441813  0.448545   \n",
       "4    0.000705  0.00  0.063050  0.150206  0.687105  0.528321  0.448545   \n",
       "..        ...   ...       ...       ...       ...       ...       ...   \n",
       "501  0.000633  0.00  0.420455  0.386831  0.580954  0.681771  0.122671   \n",
       "502  0.000438  0.00  0.420455  0.386831  0.490324  0.760041  0.105293   \n",
       "503  0.000612  0.00  0.420455  0.386831  0.654340  0.907312  0.094381   \n",
       "504  0.001161  0.00  0.420455  0.386831  0.619467  0.889804  0.114514   \n",
       "505  0.000462  0.00  0.420455  0.386831  0.473079  0.802266  0.125072   \n",
       "\n",
       "          rad       tax   ptratio         b     lstat  \n",
       "0    0.000000  0.208015  0.287234  1.000000  0.089680  \n",
       "1    0.043478  0.104962  0.553191  1.000000  0.204470  \n",
       "2    0.043478  0.104962  0.553191  0.989737  0.063466  \n",
       "3    0.086957  0.066794  0.648936  0.994276  0.033389  \n",
       "4    0.086957  0.066794  0.648936  1.000000  0.099338  \n",
       "..        ...       ...       ...       ...       ...  \n",
       "501  0.000000  0.164122  0.893617  0.987619  0.219095  \n",
       "502  0.000000  0.164122  0.893617  1.000000  0.202815  \n",
       "503  0.000000  0.164122  0.893617  1.000000  0.107892  \n",
       "504  0.000000  0.164122  0.893617  0.991301  0.131071  \n",
       "505  0.000000  0.164122  0.893617  1.000000  0.169702  \n",
       "\n",
       "[506 rows x 12 columns]"
      ],
      "text/html": "<div>\n<style scoped>\n    .dataframe tbody tr th:only-of-type {\n        vertical-align: middle;\n    }\n\n    .dataframe tbody tr th {\n        vertical-align: top;\n    }\n\n    .dataframe thead th {\n        text-align: right;\n    }\n</style>\n<table border=\"1\" class=\"dataframe\">\n  <thead>\n    <tr style=\"text-align: right;\">\n      <th></th>\n      <th>crim</th>\n      <th>zn</th>\n      <th>indus</th>\n      <th>nox</th>\n      <th>rm</th>\n      <th>age</th>\n      <th>dis</th>\n      <th>rad</th>\n      <th>tax</th>\n      <th>ptratio</th>\n      <th>b</th>\n      <th>lstat</th>\n    </tr>\n  </thead>\n  <tbody>\n    <tr>\n      <th>0</th>\n      <td>0.000000</td>\n      <td>0.18</td>\n      <td>0.067815</td>\n      <td>0.314815</td>\n      <td>0.577505</td>\n      <td>0.641607</td>\n      <td>0.269203</td>\n      <td>0.000000</td>\n      <td>0.208015</td>\n      <td>0.287234</td>\n      <td>1.000000</td>\n      <td>0.089680</td>\n    </tr>\n    <tr>\n      <th>1</th>\n      <td>0.000236</td>\n      <td>0.00</td>\n      <td>0.242302</td>\n      <td>0.172840</td>\n      <td>0.547998</td>\n      <td>0.782698</td>\n      <td>0.348962</td>\n      <td>0.043478</td>\n      <td>0.104962</td>\n      <td>0.553191</td>\n      <td>1.000000</td>\n      <td>0.204470</td>\n    </tr>\n    <tr>\n      <th>2</th>\n      <td>0.000236</td>\n      <td>0.00</td>\n      <td>0.242302</td>\n      <td>0.172840</td>\n      <td>0.694386</td>\n      <td>0.599382</td>\n      <td>0.348962</td>\n      <td>0.043478</td>\n      <td>0.104962</td>\n      <td>0.553191</td>\n      <td>0.989737</td>\n      <td>0.063466</td>\n    </tr>\n    <tr>\n      <th>3</th>\n      <td>0.000293</td>\n      <td>0.00</td>\n      <td>0.063050</td>\n      <td>0.150206</td>\n      <td>0.658555</td>\n      <td>0.441813</td>\n      <td>0.448545</td>\n      <td>0.086957</td>\n      <td>0.066794</td>\n      <td>0.648936</td>\n      <td>0.994276</td>\n      <td>0.033389</td>\n    </tr>\n    <tr>\n      <th>4</th>\n      <td>0.000705</td>\n      <td>0.00</td>\n      <td>0.063050</td>\n      <td>0.150206</td>\n      <td>0.687105</td>\n      <td>0.528321</td>\n      <td>0.448545</td>\n      <td>0.086957</td>\n      <td>0.066794</td>\n      <td>0.648936</td>\n      <td>1.000000</td>\n      <td>0.099338</td>\n    </tr>\n    <tr>\n      <th>...</th>\n      <td>...</td>\n      <td>...</td>\n      <td>...</td>\n      <td>...</td>\n      <td>...</td>\n      <td>...</td>\n      <td>...</td>\n      <td>...</td>\n      <td>...</td>\n      <td>...</td>\n      <td>...</td>\n      <td>...</td>\n    </tr>\n    <tr>\n      <th>501</th>\n      <td>0.000633</td>\n      <td>0.00</td>\n      <td>0.420455</td>\n      <td>0.386831</td>\n      <td>0.580954</td>\n      <td>0.681771</td>\n      <td>0.122671</td>\n      <td>0.000000</td>\n      <td>0.164122</td>\n      <td>0.893617</td>\n      <td>0.987619</td>\n      <td>0.219095</td>\n    </tr>\n    <tr>\n      <th>502</th>\n      <td>0.000438</td>\n      <td>0.00</td>\n      <td>0.420455</td>\n      <td>0.386831</td>\n      <td>0.490324</td>\n      <td>0.760041</td>\n      <td>0.105293</td>\n      <td>0.000000</td>\n      <td>0.164122</td>\n      <td>0.893617</td>\n      <td>1.000000</td>\n      <td>0.202815</td>\n    </tr>\n    <tr>\n      <th>503</th>\n      <td>0.000612</td>\n      <td>0.00</td>\n      <td>0.420455</td>\n      <td>0.386831</td>\n      <td>0.654340</td>\n      <td>0.907312</td>\n      <td>0.094381</td>\n      <td>0.000000</td>\n      <td>0.164122</td>\n      <td>0.893617</td>\n      <td>1.000000</td>\n      <td>0.107892</td>\n    </tr>\n    <tr>\n      <th>504</th>\n      <td>0.001161</td>\n      <td>0.00</td>\n      <td>0.420455</td>\n      <td>0.386831</td>\n      <td>0.619467</td>\n      <td>0.889804</td>\n      <td>0.114514</td>\n      <td>0.000000</td>\n      <td>0.164122</td>\n      <td>0.893617</td>\n      <td>0.991301</td>\n      <td>0.131071</td>\n    </tr>\n    <tr>\n      <th>505</th>\n      <td>0.000462</td>\n      <td>0.00</td>\n      <td>0.420455</td>\n      <td>0.386831</td>\n      <td>0.473079</td>\n      <td>0.802266</td>\n      <td>0.125072</td>\n      <td>0.000000</td>\n      <td>0.164122</td>\n      <td>0.893617</td>\n      <td>1.000000</td>\n      <td>0.169702</td>\n    </tr>\n  </tbody>\n</table>\n<p>506 rows × 12 columns</p>\n</div>"
     },
     "metadata": {},
     "execution_count": 13
    }
   ],
   "source": [
    "X"
   ]
  },
  {
   "cell_type": "code",
   "execution_count": 14,
   "metadata": {},
   "outputs": [
    {
     "output_type": "execute_result",
     "data": {
      "text/plain": [
       "     medv\n",
       "0    24.0\n",
       "1    21.6\n",
       "2    34.7\n",
       "3    33.4\n",
       "4    36.2\n",
       "..    ...\n",
       "501  22.4\n",
       "502  20.6\n",
       "503  23.9\n",
       "504  22.0\n",
       "505  11.9\n",
       "\n",
       "[506 rows x 1 columns]"
      ],
      "text/html": "<div>\n<style scoped>\n    .dataframe tbody tr th:only-of-type {\n        vertical-align: middle;\n    }\n\n    .dataframe tbody tr th {\n        vertical-align: top;\n    }\n\n    .dataframe thead th {\n        text-align: right;\n    }\n</style>\n<table border=\"1\" class=\"dataframe\">\n  <thead>\n    <tr style=\"text-align: right;\">\n      <th></th>\n      <th>medv</th>\n    </tr>\n  </thead>\n  <tbody>\n    <tr>\n      <th>0</th>\n      <td>24.0</td>\n    </tr>\n    <tr>\n      <th>1</th>\n      <td>21.6</td>\n    </tr>\n    <tr>\n      <th>2</th>\n      <td>34.7</td>\n    </tr>\n    <tr>\n      <th>3</th>\n      <td>33.4</td>\n    </tr>\n    <tr>\n      <th>4</th>\n      <td>36.2</td>\n    </tr>\n    <tr>\n      <th>...</th>\n      <td>...</td>\n    </tr>\n    <tr>\n      <th>501</th>\n      <td>22.4</td>\n    </tr>\n    <tr>\n      <th>502</th>\n      <td>20.6</td>\n    </tr>\n    <tr>\n      <th>503</th>\n      <td>23.9</td>\n    </tr>\n    <tr>\n      <th>504</th>\n      <td>22.0</td>\n    </tr>\n    <tr>\n      <th>505</th>\n      <td>11.9</td>\n    </tr>\n  </tbody>\n</table>\n<p>506 rows × 1 columns</p>\n</div>"
     },
     "metadata": {},
     "execution_count": 14
    }
   ],
   "source": [
    "y"
   ]
  },
  {
   "cell_type": "code",
   "execution_count": 15,
   "metadata": {},
   "outputs": [],
   "source": [
    "X_train, X_test, y_train, y_test = train_test_split(\n",
    "    X, \n",
    "    y, \n",
    "    test_size=.25, \n",
    "    random_state=42,\n",
    "    shuffle=True\n",
    ")"
   ]
  },
  {
   "cell_type": "markdown",
   "metadata": {},
   "source": [
    "# Modelling"
   ]
  },
  {
   "cell_type": "markdown",
   "metadata": {},
   "source": [
    "### Zadanie 1 (8ptk)\n",
    "Przeprowadź regresję z użyciem modelu liniowego. Wskaż zmienne dla których wartość parametru liniowego była najwyższa.\n"
   ]
  },
  {
   "cell_type": "code",
   "execution_count": 16,
   "metadata": {},
   "outputs": [],
   "source": [
    "\n",
    "linear_model_academy = sm.OLS(y_train, X_train)"
   ]
  },
  {
   "cell_type": "code",
   "execution_count": 17,
   "metadata": {},
   "outputs": [],
   "source": [
    "linear_model = linear_model_academy.fit()"
   ]
  },
  {
   "cell_type": "code",
   "execution_count": 18,
   "metadata": {},
   "outputs": [
    {
     "output_type": "execute_result",
     "data": {
      "text/plain": [
       "rm         37.220762\n",
       "b          10.875665\n",
       "indus       4.974703\n",
       "rad         4.674418\n",
       "zn          3.617209\n",
       "age         1.441651\n",
       "nox        -2.859999\n",
       "tax        -4.782942\n",
       "ptratio    -5.202918\n",
       "dis        -5.315612\n",
       "crim      -10.980808\n",
       "lstat     -13.470486\n",
       "dtype: float64"
      ]
     },
     "metadata": {},
     "execution_count": 18
    }
   ],
   "source": [
    "linear_model.params.sort_values(ascending=False)"
   ]
  },
  {
   "cell_type": "code",
   "execution_count": 19,
   "metadata": {},
   "outputs": [
    {
     "output_type": "stream",
     "name": "stdout",
     "text": [
      "                                 OLS Regression Results                                \n=======================================================================================\nDep. Variable:                   medv   R-squared (uncentered):                   0.956\nModel:                            OLS   Adj. R-squared (uncentered):              0.954\nMethod:                 Least Squares   F-statistic:                              659.8\nDate:                Fri, 22 Jan 2021   Prob (F-statistic):                   6.22e-240\nTime:                        10:52:43   Log-Likelihood:                         -1163.6\nNo. Observations:                 379   AIC:                                      2351.\nDf Residuals:                     367   BIC:                                      2398.\nDf Model:                          12                                                  \nCovariance Type:            nonrobust                                                  \n==============================================================================\n                 coef    std err          t      P>|t|      [0.025      0.975]\n------------------------------------------------------------------------------\ncrim         -10.9808      3.839     -2.860      0.004     -18.530      -3.432\nzn             3.6172      1.832      1.975      0.049       0.015       7.220\nindus          4.9747      2.027      2.454      0.015       0.988       8.962\nnox           -2.8600      2.286     -1.251      0.212      -7.355       1.635\nrm            37.2208      2.050     18.158      0.000      33.190      41.252\nage            1.4417      1.622      0.889      0.375      -1.749       4.632\ndis           -5.3156      2.529     -2.102      0.036     -10.289      -0.342\nrad            4.6744      1.963      2.381      0.018       0.814       8.535\ntax           -4.7829      2.501     -1.912      0.057      -9.702       0.136\nptratio       -5.2029      1.466     -3.549      0.000      -8.085      -2.320\nb             10.8757      1.191      9.129      0.000       8.533      13.218\nlstat        -13.4705      2.150     -6.267      0.000     -17.698      -9.243\n==============================================================================\nOmnibus:                      141.489   Durbin-Watson:                   2.048\nProb(Omnibus):                  0.000   Jarque-Bera (JB):              978.597\nSkew:                           1.401   Prob(JB):                    3.16e-213\nKurtosis:                      10.356   Cond. No.                         24.3\n==============================================================================\n\nNotes:\n[1] R² is computed without centering (uncentered) since the model does not contain a constant.\n[2] Standard Errors assume that the covariance matrix of the errors is correctly specified.\n"
     ]
    }
   ],
   "source": [
    "print(linear_model.summary())"
   ]
  },
  {
   "cell_type": "markdown",
   "metadata": {},
   "source": [
    "### Zadanie 2 (8ptk)\n",
    "Przeprowadź regresję z użyciem sieci neuronowej o 3 warstwach (po trzy neurony w każdej warstwie).\n"
   ]
  },
  {
   "cell_type": "code",
   "execution_count": 20,
   "metadata": {},
   "outputs": [],
   "source": [
    "nn_model = tf.keras.Sequential(\n",
    "      [\n",
    "            layers.Dense(3, activation='relu'),\n",
    "            layers.Dense(3, activation='relu'),\n",
    "            layers.Dense(3, activation='relu'),\n",
    "            layers.Dense(1)\n",
    "      ]\n",
    ")"
   ]
  },
  {
   "cell_type": "code",
   "execution_count": 21,
   "metadata": {},
   "outputs": [],
   "source": [
    "nn_model.compile(\n",
    "    loss='mean_absolute_error',\n",
    "    optimizer=tf.keras.optimizers.Adam(0.001)\n",
    ")"
   ]
  },
  {
   "cell_type": "code",
   "execution_count": 34,
   "metadata": {},
   "outputs": [
    {
     "output_type": "stream",
     "name": "stdout",
     "text": [
      "Epoch 1/10\n",
      "10/10 [==============================] - 0s 11ms/step - loss: 21.0145 - val_loss: 20.4558\n",
      "Epoch 2/10\n",
      "10/10 [==============================] - 0s 6ms/step - loss: 21.0045 - val_loss: 20.4458\n",
      "Epoch 3/10\n",
      "10/10 [==============================] - 0s 5ms/step - loss: 20.9945 - val_loss: 20.4358\n",
      "Epoch 4/10\n",
      "10/10 [==============================] - 0s 6ms/step - loss: 20.9845 - val_loss: 20.4258\n",
      "Epoch 5/10\n",
      "10/10 [==============================] - 0s 7ms/step - loss: 20.9745 - val_loss: 20.4158\n",
      "Epoch 6/10\n",
      "10/10 [==============================] - 0s 6ms/step - loss: 20.9645 - val_loss: 20.4058\n",
      "Epoch 7/10\n",
      "10/10 [==============================] - 0s 6ms/step - loss: 20.9545 - val_loss: 20.3958\n",
      "Epoch 8/10\n",
      "10/10 [==============================] - 0s 5ms/step - loss: 20.9445 - val_loss: 20.3858\n",
      "Epoch 9/10\n",
      "10/10 [==============================] - 0s 6ms/step - loss: 20.9345 - val_loss: 20.3758\n",
      "Epoch 10/10\n",
      "10/10 [==============================] - 0s 6ms/step - loss: 20.9245 - val_loss: 20.3658\n"
     ]
    },
    {
     "output_type": "execute_result",
     "data": {
      "text/plain": [
       "<tensorflow.python.keras.callbacks.History at 0x7f6adc3db7f0>"
      ]
     },
     "metadata": {},
     "execution_count": 34
    }
   ],
   "source": [
    "nn_model.fit(\n",
    "    X_train,\n",
    "    y_train,\n",
    "    validation_split=.2,\n",
    "    verbose=1,\n",
    "    epochs=10\n",
    ")"
   ]
  },
  {
   "cell_type": "code",
   "execution_count": 35,
   "metadata": {},
   "outputs": [
    {
     "output_type": "stream",
     "name": "stdout",
     "text": [
      "Model: \"sequential\"\n_________________________________________________________________\nLayer (type)                 Output Shape              Param #   \n=================================================================\ndense (Dense)                (None, 3)                 39        \n_________________________________________________________________\ndense_1 (Dense)              (None, 3)                 12        \n_________________________________________________________________\ndense_2 (Dense)              (None, 3)                 12        \n_________________________________________________________________\ndense_3 (Dense)              (None, 1)                 4         \n=================================================================\nTotal params: 67\nTrainable params: 67\nNon-trainable params: 0\n_________________________________________________________________\n"
     ]
    }
   ],
   "source": [
    "nn_model.summary()"
   ]
  },
  {
   "cell_type": "markdown",
   "metadata": {},
   "source": [
    "### Zadanie 3 (8ptk)\n",
    "Porównaj obydwa modele z użyciem współczynnika R kwadrat.\n"
   ]
  },
  {
   "cell_type": "code",
   "execution_count": 36,
   "metadata": {},
   "outputs": [],
   "source": [
    "y_pred_nn = nn_model.predict(X_test)"
   ]
  },
  {
   "cell_type": "code",
   "execution_count": 37,
   "metadata": {},
   "outputs": [],
   "source": [
    "y_pred_lin = linear_model.predict(X_test)"
   ]
  },
  {
   "cell_type": "code",
   "execution_count": 38,
   "metadata": {},
   "outputs": [
    {
     "output_type": "execute_result",
     "data": {
      "text/plain": [
       "-5.326587604986493"
      ]
     },
     "metadata": {},
     "execution_count": 38
    }
   ],
   "source": [
    "r2_score(y_test, y_pred_nn)"
   ]
  },
  {
   "cell_type": "code",
   "execution_count": 39,
   "metadata": {},
   "outputs": [
    {
     "output_type": "execute_result",
     "data": {
      "text/plain": [
       "0.547911085286336"
      ]
     },
     "metadata": {},
     "execution_count": 39
    }
   ],
   "source": [
    "r2_score(y_test, y_pred_lin)"
   ]
  },
  {
   "source": [
    "# Wizualizacja \n",
    "\n",
    "### Zadanie 1 (7ptk) \n",
    "\n",
    "Stwórz wykres rozrzutu reprezentujący relację pomiędzy kolumnami medv i crim. Nałóż na ten wykres linię trendu. \n"
   ],
   "cell_type": "markdown",
   "metadata": {}
  },
  {
   "cell_type": "code",
   "execution_count": 41,
   "metadata": {},
   "outputs": [
    {
     "output_type": "display_data",
     "data": {
      "application/vnd.plotly.v1+json": {
       "config": {
        "plotlyServerURL": "https://plot.ly"
       },
       "data": [
        {
         "hovertemplate": "crim=%{x}<br>medv=%{y}<extra></extra>",
         "legendgroup": "",
         "marker": {
          "color": "#636efa",
          "opacity": 0.65,
          "symbol": "circle"
         },
         "mode": "markers",
         "name": "",
         "orientation": "v",
         "showlegend": false,
         "type": "scatter",
         "x": [
          0,
          0.0002359225391784276,
          0.00023569774400055392,
          0.00029279571918046875,
          0.0007050700754007986,
          0.000264471526768385,
          0.000921323036515279,
          0.0015536718718739421,
          0.0023032513924937294,
          0.0018401733260739476,
          0.002456674101392516,
          0.0012492992010329788,
          0.0009830293128416045,
          0.007007315284678365,
          0.007099481307606574,
          0.006980677056100335,
          0.011774883814612317,
          0.008743183648218926,
          0.008951231585341017,
          0.008086781728827779,
          0.013998782509316635,
          0.009505688891566449,
          0.01378163036749066,
          0.011038679607076014,
          0.00836170623136729,
          0.009376431664289083,
          0.007481071122047147,
          0.010671589081608293,
          0.008617185951020727,
          0.011196261026765464,
          0.012638996478358745,
          0.015155690892243532,
          0.015529637670636401,
          0.012874019836825677,
          0.018056672662703374,
          0.0006502200519996206,
          0.0010241668303924878,
          0.0008297190015317544,
          0.0018964845181313047,
          0.00023951926202440645,
          0.00030650822503076327,
          0.0013613595972030085,
          0.0015193906072482057,
          0.0017201327010894023,
          0.0013079707424580092,
          0.0018556841933472315,
          0.002046085709006239,
          0.0025059042453468524,
          0.002782402314131479,
          0.002399126535856854,
          0.0009262685304285002,
          0.00041643306701099296,
          0.0005314158004933805,
          0.000488817114286318,
          0.00008182544474601967,
          0.0000763179628881145,
          0.00015994176905712357,
          0.00008991807114947215,
          0.001664945484921414,
          0.0010898070223316026,
          0.001607285521796815,
          0.0018589437234264,
          0.0011683729369984539,
          0.0013507942238429455,
          0.00014825241980769222,
          0.00033179768254155224,
          0.0004211537657463403,
          0.0005796343661472849,
          0.001452401644241849,
          0.001369452223606461,
          0.0009209858437484687,
          0.0017133888457531922,
          0.0009589762288091206,
          0.002125101214028838,
          0.0008164560860372072,
          0.000998090589759141,
          0.0010701374442676555,
          0.0009076105306649845,
          0.0005635615109293168,
          0.0008716433022051957,
          0.0003912560070891407,
          0.00043048276562809796,
          0.0003402275017118153,
          0.00032808856210663655,
          0.0004975841262233916,
          0.0005735648963446956,
          0.000512083415196244,
          0.0007327198822792613,
          0.0005651350771744325,
          0.0005248967403350438,
          0.0004554350303720765,
          0.0003709120434915727,
          0.00040137179009345635,
          0.00025210779198533257,
          0.0004115999706867088,
          0.0013006648991771147,
          0.0012219865869213266,
          0.0012870647909157572,
          0.0008491637844178277,
          0.0007000121838986407,
          0.0015998672809269833,
          0.0012138939605178742,
          0.0025001719683110735,
          0.0023074101032843925,
          0.0014980350653502061,
          0.0014195815482722916,
          0.001853211446390621,
          0.00140328389787645,
          0.0013678786573613452,
          0.002892102360933835,
          0.0011420719011872333,
          0.0010623820106310136,
          0.0013147145977942198,
          0.0024255399692570115,
          0.0015284948119520898,
          0.001854785012635737,
          0.0014078921990228605,
          0.0016259435215603304,
          0.0013966524401291763,
          0.0015560322212416157,
          0.0007043956898671775,
          0.000734293448524377,
          0.0009741499033155941,
          0.0016191996662241201,
          0.0010359685772308562,
          0.00182870877200239,
          0.004282685331260422,
          0.0028417482410901308,
          0.0035867194605635074,
          0.009834002248850959,
          0.0037511571331781046,
          0.01333732269842333,
          0.0065609844590101725,
          0.0036360620021067803,
          0.010900880163039446,
          0.00619827743951099,
          0.003555360533250129,
          0.0038890689748036075,
          0.002736656495434185,
          0.0060492382365807396,
          0.003198610585964598,
          0.01823448564840146,
          0.037256765997661236,
          0.04598275281477283,
          0.031172572110921132,
          0.026672172649890052,
          0.024151207127625664,
          0.026551682434549757,
          0.026128730307380426,
          0.030658128346357214,
          0.018548749307068863,
          0.01674724075158919,
          0.01259145229823846,
          0.024085229742919736,
          0.015820297835627068,
          0.03966162481055387,
          0.027429058013790735,
          0.01368170891092581,
          0.015022162556586567,
          0.015945845942469516,
          0.014242348084542769,
          0.016376778298453364,
          0.02054009739026286,
          0.017002383278475815,
          0.025132550476633216,
          0.03279401972892399,
          0.022523015654286598,
          0.020163677864913385,
          0.02578490608282263,
          0.027461091326637734,
          0.013500074407203876,
          0.025936642827887366,
          0.0014928647762591117,
          0.0009605497950542364,
          0.0008783871575414062,
          0.0006779822564670202,
          0.000718220593306409,
          0.0005387216437742751,
          0.0006755095095104097,
          0.0005786227878468533,
          0.0006694400397078201,
          0.0007031593163888723,
          0.0009521199758839734,
          0.0010538397938718138,
          0.0008627638926791854,
          0.0006086329440929898,
          0.0005586160170160958,
          0.0008140957366695336,
          0.00134281399502843,
          0.0008697325431932695,
          0.0009481860602711838,
          0.0007057444609344197,
          0.0009027774343407005,
          0.00017477825079678655,
          0.00009070485427203005,
          0.0000841857941136933,
          0.00037979145301758306,
          0.0004534118737712134,
          0.00035247883890593087,
          0.00028301712894296366,
          0.0001288076369216189,
          0.0003161744176793315,
          0.00017365427490741815,
          0.0003234802609602261,
          0.00015477147996602894,
          0.0014622926320682912,
          0.0025106249440821995,
          0.002761271567411353,
          0.0014561107646767647,
          0.004826240071358981,
          0.001889853060384031,
          0.004152641320860498,
          0.0023701279579111494,
          0.0015083756435323955,
          0.0031834369114581247,
          0.002154661779919227,
          0.0004414977293439083,
          0.0007172090150059773,
          0.0011730936357338012,
          0.0012131071773953163,
          0.003953809986031228,
          0.004511526822335829,
          0.006937628779537524,
          0.006838044515739485,
          0.003473197895737299,
          0.005851530877640837,
          0.004224126187424328,
          0.004564016496369333,
          0.003280548428299555,
          0.004894465407843643,
          0.005964715249700236,
          0.0051325235012118706,
          0.006395085617739396,
          0.003654607604281359,
          0.004963365129861926,
          0.0036431430502098018,
          0.0057801584086659445,
          0.005681810518346209,
          0.0008555704469872276,
          0.0009688672166355626,
          0.0012023170088573797,
          0.0011217279375896653,
          0.0010855359139520027,
          0.0013628207658591873,
          0.00224525423660232,
          0.0020794677929204804,
          0.003748571988632558,
          0.002138364129523385,
          0.001776668688324633,
          0.00207272393758427,
          0.0015059028965757851,
          0.002335284705340729,
          0.0008529853024416803,
          0.004075761370027699,
          0.0004706087048785499,
          0.000327751369339826,
          0.00010183221557677722,
          0.006802526877635442,
          0.007386657147340201,
          0.007309552401329528,
          0.005999670899859593,
          0.005932344744086426,
          0.005775212914752723,
          0.009204688148393592,
          0.006111618898440686,
          0.00848938989239954,
          0.00876004328655945,
          0.006429366882365133,
          0.00600405440582813,
          0.0009478488675043733,
          0.0032914509944264284,
          0.0017510420380470336,
          0.0012170410930081056,
          0.002422842427122527,
          0.000563336715751443,
          0.0010084311679413303,
          0.001105655082371697,
          0.0006176247512079369,
          0.0008256726883300281,
          0.002293585199845161,
          0.0003311232970079312,
          0.0003453977908029099,
          0.0006178495463858106,
          0.00009767350478611415,
          0.00003079693936869422,
          0.000052152481266693853,
          0.000149825986052808,
          0.00036405579056642543,
          0.00044486965701201356,
          0.00041193716345351935,
          0.00032258108024873144,
          0.0008153321101478388,
          0.00033528200779859435,
          0.0008579307963549013,
          0.0008505125554850697,
          0.0013824903439231344,
          0.0005327645715606225,
          0.0015141079205681742,
          0.0006557275338575257,
          0.0005540077158696854,
          0.0004254248741259401,
          0.00032651499586152077,
          0.0009704407828806784,
          0.001052940613160319,
          0.0005488374267785907,
          0.0005447911135768645,
          0.000772283833585029,
          0.00048330963242841293,
          0.005469941063200265,
          0.0038561364812451137,
          0.029551124492918274,
          0.008812982550948702,
          0.002870297228680088,
          0.0029567309745725185,
          0.004078683707340057,
          0.0027789179888744373,
          0.00350624278688473,
          0.0026851783997011124,
          0.0044475725942307665,
          0.005273132884971858,
          0.0018127483143733588,
          0.0019699925412959983,
          0.0038756936617201235,
          0.003120157068886684,
          0.0037627340848385995,
          0.002085424865134133,
          0.003339894355258207,
          0.0026380838099365764,
          0.0006726995697869887,
          0.0006847261118032305,
          0.0004396993679209189,
          0.0004935378130216653,
          0.00031853476704700516,
          0.0005002816683578758,
          0.0003491069112378256,
          0.00037417157357074105,
          0.0003141512610784684,
          0.00027076579174884803,
          0.0003005511528171107,
          0.0005468142701777276,
          0.0006203222933424211,
          0.0000751939869987461,
          0.00020973390095614382,
          0.00021479179245830165,
          0.0002716649724603428,
          0.0002788584181523006,
          0.0006215586668207264,
          0.0001391482151038082,
          0.00009767350478611415,
          0.0002548053341198167,
          0.0006270661486786315,
          0.0008225255558397966,
          0.0007431728580503874,
          0.00012105220328497691,
          0.0004123867538092667,
          0.0011270106242696968,
          0.10089526927539973,
          0.04319866453680729,
          0.05839560534419064,
          0.04782506169503657,
          0.050979050438193244,
          0.04305412123743452,
          0.041271270681718354,
          0.04738761027889438,
          0.038979034252940435,
          0.05113584507476013,
          0.041481791365797056,
          0.15191523243596597,
          0.05498377653201286,
          0.06365817285580244,
          0.07342305058745724,
          0.1036977907579509,
          0.09285086143760114,
          0.12478133049072339,
          0.20784427269093766,
          0.22033052084593124,
          0.17176239869043322,
          0.11034262381830795,
          0.26572903099341033,
          0.2007463649495762,
          1,
          0.17835339330568953,
          0.10318885447524488,
          0.08976251288638357,
          0.22567839812754611,
          0.18888954329262894,
          0.27410939522454114,
          0.2539149204202591,
          0.16103629677819056,
          0.0915525568877917,
          0.07818185210545413,
          0.05942157053600612,
          0.13006176921897614,
          0.09709398281755578,
          0.1500898955916317,
          0.09790313306031209,
          0.06592939093544917,
          0.08616061975131359,
          0.43099394986258266,
          0.1113885957809542,
          0.28144108995089123,
          0.15994042028605637,
          0.10778243153750461,
          0.27869409287727487,
          0.46670715977137434,
          0.7633423805899254,
          0.23277405791712882,
          0.134256447238099,
          0.0831469031991501,
          0.1622119755584699,
          0.5746830275594392,
          0.157855445011278,
          0.211360069272882,
          0.3220132476294224,
          0.5141040990501504,
          0.2031955084125099,
          0.12170276052974331,
          0.2914950542812916,
          0.8264345191878419,
          0.13269636870365567,
          0.12454866748162413,
          0.07886118313298839,
          0.13534782782667573,
          0.0791739856229996,
          0.09875027368812907,
          0.1781949127052886,
          0.13758453984651883,
          0.42323964020183014,
          0.0827335048670404,
          0.10489583665842867,
          0.09537845841761279,
          0.11302679063970864,
          0.07235853302263642,
          0.062658845892565,
          0.15631222611517515,
          0.12536916988086305,
          0.16201527977783042,
          0.170517033405013,
          0.1536675108474913,
          0.10547738178358788,
          0.24777801206430763,
          0.10922640336257619,
          0.06361759732619623,
          0.11195047132804946,
          0.14382373000840284,
          0.11987742368540903,
          0.0706053554303996,
          0.11148188577977175,
          0.10478568702127058,
          0.08451950255524679,
          0.07543451783907093,
          0.06108606643057179,
          0.0571412482516555,
          0.09263550765719814,
          0.10685987212751101,
          0.05334445769736904,
          0.05240548823939068,
          0.09210150671215922,
          0.08706216081217599,
          0.07637247571874886,
          0.0540161456888556,
          0.04143863069164531,
          0.07472866098054758,
          0.06535728720776066,
          0.08804103141422692,
          0.03548706595985068,
          0.04235882975227122,
          0.04963432568415288,
          0.1749960773241461,
          0.14688993623459987,
          0.04880831580305605,
          0.0453197194376344,
          0.04004006749250421,
          0.05215888792926325,
          0.09047410202194271,
          0.07178609210218109,
          0.05468243859607319,
          0.16878835848716442,
          0.1149454174828605,
          0.16103629677819056,
          0.06538943291819659,
          0.06408753164554117,
          0.06434582130491803,
          0.03160687639457309,
          0.026663518035541914,
          0.04122012977875209,
          0.06390286240691793,
          0.054280729613212925,
          0.0016245947504930883,
          0.001989999312126756,
          0.002260765103875604,
          0.0011174568292100654,
          0.0011801746838368222,
          0.0018769273376562944,
          0.0030712641176991583,
          0.0019407691681724197,
          0.0031839988994028096,
          0.0029454912156788343,
          0.00261661587044964,
          0.001927731047855746,
          0.0024509418243567373,
          0.0006329108233033472,
          0.0004377886089089926,
          0.0006118924741721581,
          0.0011607299009507488,
          0.0004618416929414764
         ],
         "xaxis": "x",
         "y": [
          24,
          21.6,
          34.7,
          33.4,
          36.2,
          28.7,
          22.9,
          27.1,
          16.5,
          18.9,
          15,
          18.9,
          21.7,
          20.4,
          18.2,
          19.9,
          23.1,
          17.5,
          20.2,
          18.2,
          13.6,
          19.6,
          15.2,
          14.5,
          15.6,
          13.9,
          16.6,
          14.8,
          18.4,
          21,
          12.7,
          14.5,
          13.2,
          13.1,
          13.5,
          18.9,
          20,
          21,
          24.7,
          30.8,
          34.9,
          26.6,
          25.3,
          24.7,
          21.2,
          19.3,
          20,
          16.6,
          14.4,
          19.4,
          19.7,
          20.5,
          25,
          23.4,
          18.9,
          35.4,
          24.7,
          31.6,
          23.3,
          19.6,
          18.7,
          16,
          22.2,
          25,
          33,
          23.5,
          19.4,
          22,
          17.4,
          20.9,
          24.2,
          21.7,
          22.8,
          23.4,
          24.1,
          21.4,
          20,
          20.8,
          21.2,
          20.3,
          28,
          23.9,
          24.8,
          22.9,
          23.9,
          26.6,
          22.5,
          22.2,
          23.6,
          28.7,
          22.6,
          22,
          22.9,
          25,
          20.6,
          28.4,
          21.4,
          38.7,
          43.8,
          33.2,
          27.5,
          26.5,
          18.6,
          19.3,
          20.1,
          19.5,
          19.5,
          20.4,
          19.8,
          19.4,
          21.7,
          22.8,
          18.8,
          18.7,
          18.5,
          18.3,
          21.2,
          19.2,
          20.4,
          19.3,
          22,
          20.3,
          20.5,
          17.3,
          18.8,
          21.4,
          15.7,
          16.2,
          18,
          14.3,
          19.2,
          19.6,
          23,
          18.4,
          15.6,
          18.1,
          17.4,
          17.1,
          13.3,
          17.8,
          14,
          14.4,
          13.4,
          15.6,
          11.8,
          13.8,
          15.6,
          14.6,
          17.8,
          15.4,
          21.5,
          19.6,
          15.3,
          19.4,
          17,
          15.6,
          13.1,
          41.3,
          24.3,
          23.3,
          27,
          50,
          50,
          50,
          22.7,
          25,
          50,
          23.8,
          23.8,
          22.3,
          17.4,
          19.1,
          23.1,
          23.6,
          22.6,
          29.4,
          23.2,
          24.6,
          29.9,
          37.2,
          39.8,
          36.2,
          37.9,
          32.5,
          26.4,
          29.6,
          50,
          32,
          29.8,
          34.9,
          37,
          30.5,
          36.4,
          31.1,
          29.1,
          50,
          33.3,
          30.3,
          34.6,
          34.9,
          32.9,
          24.1,
          42.3,
          48.5,
          50,
          22.6,
          24.4,
          22.5,
          24.4,
          20,
          21.7,
          19.3,
          22.4,
          28.1,
          23.7,
          25,
          23.3,
          28.7,
          21.5,
          23,
          26.7,
          21.7,
          27.5,
          30.1,
          44.8,
          50,
          37.6,
          31.6,
          46.7,
          31.5,
          24.3,
          31.7,
          41.7,
          48.3,
          29,
          24,
          25.1,
          31.5,
          23.7,
          23.3,
          22,
          20.1,
          22.2,
          23.7,
          17.6,
          18.5,
          24.3,
          20.5,
          24.5,
          26.2,
          24.4,
          24.8,
          29.6,
          42.8,
          21.9,
          20.9,
          44,
          50,
          36,
          30.1,
          33.8,
          43.1,
          48.8,
          31,
          36.5,
          22.8,
          30.7,
          50,
          43.5,
          20.7,
          21.1,
          25.2,
          24.4,
          35.2,
          32.4,
          32,
          33.2,
          33.1,
          29.1,
          35.1,
          45.4,
          35.4,
          46,
          50,
          32.2,
          22,
          20.1,
          23.2,
          22.3,
          24.8,
          28.5,
          37.3,
          27.9,
          23.9,
          21.7,
          28.6,
          27.1,
          20.3,
          22.5,
          29,
          24.8,
          22,
          26.4,
          33.1,
          36.1,
          28.4,
          33.4,
          28.2,
          22.8,
          20.3,
          16.1,
          22.1,
          19.4,
          21.6,
          23.8,
          16.2,
          17.8,
          19.8,
          23.1,
          21,
          23.8,
          23.1,
          20.4,
          18.5,
          25,
          24.6,
          23,
          22.2,
          19.3,
          22.6,
          19.8,
          17.1,
          19.4,
          22.2,
          20.7,
          21.1,
          19.5,
          18.5,
          20.6,
          19,
          18.7,
          32.7,
          16.5,
          23.9,
          31.2,
          17.5,
          17.2,
          23.1,
          24.5,
          26.6,
          22.9,
          24.1,
          18.6,
          30.1,
          18.2,
          20.6,
          17.8,
          21.7,
          22.7,
          22.6,
          25,
          19.9,
          20.8,
          16.8,
          21.9,
          27.5,
          21.9,
          23.1,
          50,
          50,
          50,
          50,
          50,
          13.8,
          13.8,
          15,
          13.9,
          13.3,
          13.1,
          10.2,
          10.4,
          10.9,
          11.3,
          12.3,
          8.8,
          7.2,
          10.5,
          7.4,
          10.2,
          11.5,
          15.1,
          23.2,
          9.7,
          13.8,
          12.7,
          13.1,
          12.5,
          8.5,
          5,
          6.3,
          5.6,
          7.2,
          12.1,
          8.3,
          8.5,
          5,
          11.9,
          27.9,
          17.2,
          27.5,
          15,
          17.2,
          17.9,
          16.3,
          7,
          7.2,
          7.5,
          10.4,
          8.8,
          8.4,
          16.7,
          14.2,
          20.8,
          13.4,
          11.7,
          8.3,
          10.2,
          10.9,
          11,
          9.5,
          14.5,
          14.1,
          16.1,
          14.3,
          11.7,
          13.4,
          9.6,
          8.7,
          8.4,
          12.8,
          10.5,
          17.1,
          18.4,
          15.4,
          10.8,
          11.8,
          14.9,
          12.6,
          14.1,
          13,
          13.4,
          15.2,
          16.1,
          17.8,
          14.9,
          14.1,
          12.7,
          13.5,
          14.9,
          20,
          16.4,
          17.7,
          19.5,
          20.2,
          21.4,
          19.9,
          19,
          19.1,
          19.1,
          20.1,
          19.9,
          19.6,
          23.2,
          29.8,
          13.8,
          13.3,
          16.7,
          12,
          14.6,
          21.4,
          23,
          23.7,
          25,
          21.8,
          20.6,
          21.2,
          19.1,
          20.6,
          15.2,
          7,
          8.1,
          13.6,
          20.1,
          21.8,
          24.5,
          23.1,
          19.7,
          18.3,
          21.2,
          17.5,
          16.8,
          22.4,
          20.6,
          23.9,
          22,
          11.9
         ],
         "yaxis": "y"
        },
        {
         "hovertemplate": "<b>OLS trendline</b><br>medv = -36.9394 * crim + 24.0305<br>R<sup>2</sup>=0.150780<br><br>crim=%{x}<br>medv=%{y} <b>(trend)</b><extra></extra>",
         "legendgroup": "",
         "line": {
          "color": "darkblue"
         },
         "marker": {
          "color": "#636efa",
          "symbol": "circle"
         },
         "mode": "lines",
         "name": "",
         "showlegend": false,
         "type": "scatter",
         "x": [
          0,
          0.00003079693936869422,
          0.000052152481266693853,
          0.0000751939869987461,
          0.0000763179628881145,
          0.00008182544474601967,
          0.0000841857941136933,
          0.00008991807114947215,
          0.00009070485427203005,
          0.00009767350478611415,
          0.00009767350478611415,
          0.00010183221557677722,
          0.00012105220328497691,
          0.0001288076369216189,
          0.0001391482151038082,
          0.00014825241980769222,
          0.000149825986052808,
          0.00015477147996602894,
          0.00015994176905712357,
          0.00017365427490741815,
          0.00017477825079678655,
          0.00020973390095614382,
          0.00021479179245830165,
          0.00023569774400055392,
          0.0002359225391784276,
          0.00023951926202440645,
          0.00025210779198533257,
          0.0002548053341198167,
          0.000264471526768385,
          0.00027076579174884803,
          0.0002716649724603428,
          0.0002788584181523006,
          0.00028301712894296366,
          0.00029279571918046875,
          0.0003005511528171107,
          0.00030650822503076327,
          0.0003141512610784684,
          0.0003161744176793315,
          0.00031853476704700516,
          0.00032258108024873144,
          0.0003234802609602261,
          0.00032651499586152077,
          0.000327751369339826,
          0.00032808856210663655,
          0.0003311232970079312,
          0.00033179768254155224,
          0.00033528200779859435,
          0.0003402275017118153,
          0.0003453977908029099,
          0.0003491069112378256,
          0.00035247883890593087,
          0.00036405579056642543,
          0.0003709120434915727,
          0.00037417157357074105,
          0.00037979145301758306,
          0.0003912560070891407,
          0.00040137179009345635,
          0.0004115999706867088,
          0.00041193716345351935,
          0.0004123867538092667,
          0.00041643306701099296,
          0.0004211537657463403,
          0.0004254248741259401,
          0.00043048276562809796,
          0.0004377886089089926,
          0.0004396993679209189,
          0.0004414977293439083,
          0.00044486965701201356,
          0.0004534118737712134,
          0.0004554350303720765,
          0.0004618416929414764,
          0.0004706087048785499,
          0.00048330963242841293,
          0.000488817114286318,
          0.0004935378130216653,
          0.0004975841262233916,
          0.0005002816683578758,
          0.000512083415196244,
          0.0005248967403350438,
          0.0005314158004933805,
          0.0005327645715606225,
          0.0005387216437742751,
          0.0005447911135768645,
          0.0005468142701777276,
          0.0005488374267785907,
          0.0005540077158696854,
          0.0005586160170160958,
          0.000563336715751443,
          0.0005635615109293168,
          0.0005651350771744325,
          0.0005735648963446956,
          0.0005786227878468533,
          0.0005796343661472849,
          0.0006086329440929898,
          0.0006118924741721581,
          0.0006176247512079369,
          0.0006178495463858106,
          0.0006203222933424211,
          0.0006215586668207264,
          0.0006270661486786315,
          0.0006329108233033472,
          0.0006502200519996206,
          0.0006557275338575257,
          0.0006694400397078201,
          0.0006726995697869887,
          0.0006755095095104097,
          0.0006779822564670202,
          0.0006847261118032305,
          0.0007000121838986407,
          0.0007031593163888723,
          0.0007043956898671775,
          0.0007050700754007986,
          0.0007057444609344197,
          0.0007172090150059773,
          0.000718220593306409,
          0.0007327198822792613,
          0.000734293448524377,
          0.0007431728580503874,
          0.000772283833585029,
          0.0008140957366695336,
          0.0008153321101478388,
          0.0008164560860372072,
          0.0008225255558397966,
          0.0008256726883300281,
          0.0008297190015317544,
          0.0008491637844178277,
          0.0008505125554850697,
          0.0008529853024416803,
          0.0008555704469872276,
          0.0008579307963549013,
          0.0008627638926791854,
          0.0008697325431932695,
          0.0008716433022051957,
          0.0008783871575414062,
          0.0009027774343407005,
          0.0009076105306649845,
          0.0009209858437484687,
          0.000921323036515279,
          0.0009262685304285002,
          0.0009478488675043733,
          0.0009481860602711838,
          0.0009521199758839734,
          0.0009589762288091206,
          0.0009605497950542364,
          0.0009688672166355626,
          0.0009704407828806784,
          0.0009741499033155941,
          0.0009830293128416045,
          0.000998090589759141,
          0.0010084311679413303,
          0.0010241668303924878,
          0.0010359685772308562,
          0.001052940613160319,
          0.0010538397938718138,
          0.0010623820106310136,
          0.0010701374442676555,
          0.0010855359139520027,
          0.0010898070223316026,
          0.001105655082371697,
          0.0011174568292100654,
          0.0011217279375896653,
          0.0011270106242696968,
          0.0011420719011872333,
          0.0011607299009507488,
          0.0011683729369984539,
          0.0011730936357338012,
          0.0011801746838368222,
          0.0012023170088573797,
          0.0012131071773953163,
          0.0012138939605178742,
          0.0012170410930081056,
          0.0012219865869213266,
          0.0012492992010329788,
          0.0012870647909157572,
          0.0013006648991771147,
          0.0013079707424580092,
          0.0013147145977942198,
          0.00134281399502843,
          0.0013507942238429455,
          0.0013613595972030085,
          0.0013628207658591873,
          0.0013678786573613452,
          0.001369452223606461,
          0.0013824903439231344,
          0.0013966524401291763,
          0.00140328389787645,
          0.0014078921990228605,
          0.0014195815482722916,
          0.001452401644241849,
          0.0014561107646767647,
          0.0014622926320682912,
          0.0014928647762591117,
          0.0014980350653502061,
          0.0015059028965757851,
          0.0015083756435323955,
          0.0015141079205681742,
          0.0015193906072482057,
          0.0015284948119520898,
          0.0015536718718739421,
          0.0015560322212416157,
          0.0015998672809269833,
          0.001607285521796815,
          0.0016191996662241201,
          0.0016245947504930883,
          0.0016259435215603304,
          0.001664945484921414,
          0.0017133888457531922,
          0.0017201327010894023,
          0.0017510420380470336,
          0.001776668688324633,
          0.0018127483143733588,
          0.00182870877200239,
          0.0018401733260739476,
          0.001853211446390621,
          0.001854785012635737,
          0.0018556841933472315,
          0.0018589437234264,
          0.0018769273376562944,
          0.001889853060384031,
          0.0018964845181313047,
          0.001927731047855746,
          0.0019407691681724197,
          0.0019699925412959983,
          0.001989999312126756,
          0.002046085709006239,
          0.00207272393758427,
          0.0020794677929204804,
          0.002085424865134133,
          0.002125101214028838,
          0.002138364129523385,
          0.002154661779919227,
          0.00224525423660232,
          0.002260765103875604,
          0.002293585199845161,
          0.0023032513924937294,
          0.0023074101032843925,
          0.002335284705340729,
          0.0023701279579111494,
          0.002399126535856854,
          0.002422842427122527,
          0.0024255399692570115,
          0.0024509418243567373,
          0.002456674101392516,
          0.0025001719683110735,
          0.0025059042453468524,
          0.0025106249440821995,
          0.00261661587044964,
          0.0026380838099365764,
          0.0026851783997011124,
          0.002736656495434185,
          0.002761271567411353,
          0.0027789179888744373,
          0.002782402314131479,
          0.0028417482410901308,
          0.002870297228680088,
          0.002892102360933835,
          0.0029454912156788343,
          0.0029567309745725185,
          0.0030712641176991583,
          0.003120157068886684,
          0.0031834369114581247,
          0.0031839988994028096,
          0.003198610585964598,
          0.003280548428299555,
          0.0032914509944264284,
          0.003339894355258207,
          0.003473197895737299,
          0.00350624278688473,
          0.003555360533250129,
          0.0035867194605635074,
          0.0036360620021067803,
          0.0036431430502098018,
          0.003654607604281359,
          0.003748571988632558,
          0.0037511571331781046,
          0.0037627340848385995,
          0.0038561364812451137,
          0.0038756936617201235,
          0.0038890689748036075,
          0.003953809986031228,
          0.004075761370027699,
          0.004078683707340057,
          0.004152641320860498,
          0.004224126187424328,
          0.004282685331260422,
          0.0044475725942307665,
          0.004511526822335829,
          0.004564016496369333,
          0.004826240071358981,
          0.004894465407843643,
          0.004963365129861926,
          0.0051325235012118706,
          0.005273132884971858,
          0.005469941063200265,
          0.005681810518346209,
          0.005775212914752723,
          0.0057801584086659445,
          0.005851530877640837,
          0.005932344744086426,
          0.005964715249700236,
          0.005999670899859593,
          0.00600405440582813,
          0.0060492382365807396,
          0.006111618898440686,
          0.00619827743951099,
          0.006395085617739396,
          0.006429366882365133,
          0.0065609844590101725,
          0.006802526877635442,
          0.006838044515739485,
          0.006937628779537524,
          0.006980677056100335,
          0.007007315284678365,
          0.007099481307606574,
          0.007309552401329528,
          0.007386657147340201,
          0.007481071122047147,
          0.008086781728827779,
          0.00836170623136729,
          0.00848938989239954,
          0.008617185951020727,
          0.008743183648218926,
          0.00876004328655945,
          0.008812982550948702,
          0.008951231585341017,
          0.009204688148393592,
          0.009376431664289083,
          0.009505688891566449,
          0.009834002248850959,
          0.010671589081608293,
          0.010900880163039446,
          0.011038679607076014,
          0.011196261026765464,
          0.011774883814612317,
          0.01259145229823846,
          0.012638996478358745,
          0.012874019836825677,
          0.01333732269842333,
          0.013500074407203876,
          0.01368170891092581,
          0.01378163036749066,
          0.013998782509316635,
          0.014242348084542769,
          0.015022162556586567,
          0.015155690892243532,
          0.015529637670636401,
          0.015820297835627068,
          0.015945845942469516,
          0.016376778298453364,
          0.01674724075158919,
          0.017002383278475815,
          0.018056672662703374,
          0.01823448564840146,
          0.018548749307068863,
          0.020163677864913385,
          0.02054009739026286,
          0.022523015654286598,
          0.024085229742919736,
          0.024151207127625664,
          0.025132550476633216,
          0.02578490608282263,
          0.025936642827887366,
          0.026128730307380426,
          0.026551682434549757,
          0.026663518035541914,
          0.026672172649890052,
          0.027429058013790735,
          0.027461091326637734,
          0.029551124492918274,
          0.030658128346357214,
          0.031172572110921132,
          0.03160687639457309,
          0.03279401972892399,
          0.03548706595985068,
          0.037256765997661236,
          0.038979034252940435,
          0.03966162481055387,
          0.04004006749250421,
          0.04122012977875209,
          0.041271270681718354,
          0.04143863069164531,
          0.041481791365797056,
          0.04235882975227122,
          0.04305412123743452,
          0.04319866453680729,
          0.0453197194376344,
          0.04598275281477283,
          0.04738761027889438,
          0.04782506169503657,
          0.04880831580305605,
          0.04963432568415288,
          0.050979050438193244,
          0.05113584507476013,
          0.05215888792926325,
          0.05240548823939068,
          0.05334445769736904,
          0.0540161456888556,
          0.054280729613212925,
          0.05468243859607319,
          0.05498377653201286,
          0.0571412482516555,
          0.05839560534419064,
          0.05942157053600612,
          0.06108606643057179,
          0.062658845892565,
          0.06361759732619623,
          0.06365817285580244,
          0.06390286240691793,
          0.06408753164554117,
          0.06434582130491803,
          0.06535728720776066,
          0.06538943291819659,
          0.06592939093544917,
          0.0706053554303996,
          0.07178609210218109,
          0.07235853302263642,
          0.07342305058745724,
          0.07472866098054758,
          0.07543451783907093,
          0.07637247571874886,
          0.07818185210545413,
          0.07886118313298839,
          0.0791739856229996,
          0.0827335048670404,
          0.0831469031991501,
          0.08451950255524679,
          0.08616061975131359,
          0.08706216081217599,
          0.08804103141422692,
          0.08976251288638357,
          0.09047410202194271,
          0.0915525568877917,
          0.09210150671215922,
          0.09263550765719814,
          0.09285086143760114,
          0.09537845841761279,
          0.09709398281755578,
          0.09790313306031209,
          0.09875027368812907,
          0.10089526927539973,
          0.10318885447524488,
          0.1036977907579509,
          0.10478568702127058,
          0.10489583665842867,
          0.10547738178358788,
          0.10685987212751101,
          0.10778243153750461,
          0.10922640336257619,
          0.11034262381830795,
          0.1113885957809542,
          0.11148188577977175,
          0.11195047132804946,
          0.11302679063970864,
          0.1149454174828605,
          0.11987742368540903,
          0.12170276052974331,
          0.12454866748162413,
          0.12478133049072339,
          0.12536916988086305,
          0.13006176921897614,
          0.13269636870365567,
          0.134256447238099,
          0.13534782782667573,
          0.13758453984651883,
          0.14382373000840284,
          0.14688993623459987,
          0.1500898955916317,
          0.15191523243596597,
          0.1536675108474913,
          0.15631222611517515,
          0.157855445011278,
          0.15994042028605637,
          0.16103629677819056,
          0.16103629677819056,
          0.16201527977783042,
          0.1622119755584699,
          0.16878835848716442,
          0.170517033405013,
          0.17176239869043322,
          0.1749960773241461,
          0.1781949127052886,
          0.17835339330568953,
          0.18888954329262894,
          0.2007463649495762,
          0.2031955084125099,
          0.20784427269093766,
          0.211360069272882,
          0.22033052084593124,
          0.22567839812754611,
          0.23277405791712882,
          0.24777801206430763,
          0.2539149204202591,
          0.26572903099341033,
          0.27410939522454114,
          0.27869409287727487,
          0.28144108995089123,
          0.2914950542812916,
          0.3220132476294224,
          0.42323964020183014,
          0.43099394986258266,
          0.46670715977137434,
          0.5141040990501504,
          0.5746830275594392,
          0.7633423805899254,
          0.8264345191878419,
          1
         ],
         "xaxis": "x",
         "y": [
          24.030482171567428,
          24.02934455020594,
          24.0285556886779,
          24.027704548608178,
          24.027663029580385,
          24.027459586344207,
          24.027372396385843,
          24.027160649344108,
          24.02713158602465,
          24.026874168052345,
          24.026874168052345,
          24.026720547649518,
          24.02601057227428,
          24.02572409098252,
          24.02534211592684,
          24.025005811801726,
          24.024947685162818,
          24.02476500144054,
          24.024574013912694,
          24.02406748177364,
          24.02402596274585,
          24.022734720981532,
          24.02254788535647,
          24.02177563143955,
          24.02176732763399,
          24.021634466745056,
          24.021169453633792,
          24.02106980796709,
          24.020712744328087,
          24.020480237772453,
          24.02044702255022,
          24.020181300772354,
          24.020027680369527,
          24.01966646482774,
          24.019379983535977,
          24.019159932688684,
          24.0188776032997,
          24.018802869049676,
          24.018715679091315,
          24.018566210591263,
          24.018532995369032,
          24.018420893993994,
          24.018375223063423,
          24.018362767355086,
          24.018250665980048,
          24.018225754563375,
          24.01809704557722,
          24.017914361854938,
          24.017723374327097,
          24.017586361535386,
          24.01746180445201,
          24.01703415846576,
          24.01678089239623,
          24.016660487215635,
          24.01645289207668,
          24.016029397993204,
          24.01565572674308,
          24.015277903590178,
          24.01526544788184,
          24.015248840270722,
          24.015099371770674,
          24.01492499185395,
          24.014767219548343,
          24.01458038392328,
          24.014310510242634,
          24.01423992789539,
          24.014173497450923,
          24.014048940367548,
          24.013733395756333,
          24.01365866150631,
          24.013422003047896,
          24.013098154631123,
          24.012628989617077,
          24.0124255463809,
          24.012251166464175,
          24.012101697964127,
          24.012002052297426,
          24.011566102505615,
          24.011092785588794,
          24.010851975227602,
          24.010802152394252,
          24.01058210154696,
          24.010357898796883,
          24.01028316454686,
          24.010208430296835,
          24.010017442768994,
          24.009847214755048,
          24.009672834838323,
          24.009664531032765,
          24.009606404393857,
          24.00929501168542,
          24.00910817606036,
          24.00907080893535,
          24.007999618018324,
          24.00787921283773,
          24.007667465795993,
          24.007659161990436,
          24.007567820129292,
          24.007522149198724,
          24.007318705962543,
          24.00710280701803,
          24.00646341399004,
          24.006259970753863,
          24.005753438614803,
          24.00563303343421,
          24.00552923586473,
          24.005437894003588,
          24.00518877983684,
          24.004624121058875,
          24.00450786778106,
          24.00446219685049,
          24.004437285433813,
          24.00441237401714,
          24.003988879933665,
          24.003951512808655,
          24.003415917350143,
          24.003357790711235,
          24.003029790391682,
          24.001954447571883,
          24.000409939738038,
          24.000364268807466,
          24.000322749779677,
          24.0000985470296,
          23.999982293751785,
          23.999832825251737,
          23.999114546070942,
          23.99906472323759,
          23.99897338137645,
          23.99887788761253,
          23.99879069765417,
          23.998612165834665,
          23.998354747862358,
          23.998284165515113,
          23.998035051348364,
          23.99713408844529,
          23.996955556625785,
          23.996461480195066,
          23.99644902448673,
          23.996266340764446,
          23.99546917543085,
          23.99545671972251,
          23.99531140312524,
          23.99505813705571,
          23.995000010416803,
          23.99469276961115,
          23.99463464297224,
          23.994497630180526,
          23.994169629860973,
          23.993613274888567,
          23.993231299832885,
          23.992650033443805,
          23.992214083651994,
          23.991587146332343,
          23.991553931110108,
          23.991238386498893,
          23.990951905207133,
          23.99038309452639,
          23.99022532222078,
          23.98963990392892,
          23.98920395413711,
          23.9890461818315,
          23.98885104240088,
          23.988294687428475,
          23.987605471567136,
          23.987323142178155,
          23.98714876226143,
          23.986887192386344,
          23.986069267538852,
          23.98567068487205,
          23.9856416215526,
          23.985525368274782,
          23.9853426845525,
          23.984333772177166,
          23.982938732843373,
          23.982436352607092,
          23.982166478926448,
          23.9819173647597,
          23.980879389064913,
          23.980584603967593,
          23.980194325106353,
          23.980140350370224,
          23.979953514745162,
          23.979895388106254,
          23.97941376738387,
          23.9788906276337,
          23.97864566536973,
          23.978475437355783,
          23.97804363946675,
          23.97683128385524,
          23.97669427106353,
          23.976465916410675,
          23.975336598854746,
          23.975145611326905,
          23.974854978132363,
          23.974763636271224,
          23.974551889229485,
          23.974356749798865,
          23.974020445673755,
          23.973090419451225,
          23.973003229492864,
          23.971383987408995,
          23.97110996182557,
          23.97066986013098,
          23.97047056879758,
          23.97042074596423,
          23.968980035699865,
          23.967190565602053,
          23.966941451435304,
          23.965799678171035,
          23.96485304433739,
          23.963520283545282,
          23.96293071335064,
          23.96250721926717,
          23.962025598544788,
          23.96196747190588,
          23.961934256683648,
          23.961813851503052,
          23.961149547058387,
          23.960672078238783,
          23.960427115974813,
          23.95927288700221,
          23.958791266279828,
          23.95771177155725,
          23.95697273286256,
          23.954900933375765,
          23.953916932417105,
          23.953667818250356,
          23.953447767403063,
          23.95198214572202,
          23.951492221194083,
          23.950890195291105,
          23.947543761651108,
          23.946970799067586,
          23.945758443456075,
          23.945401379817067,
          23.94524775941424,
          23.94421808752501,
          23.942930997663474,
          23.94185980674645,
          23.94098375526005,
          23.940884109593352,
          23.939945779565264,
          23.939734032523525,
          23.938127246147996,
          23.937915499106257,
          23.937741119189536,
          23.933825874868795,
          23.933032861437976,
          23.93129321417351,
          23.92939164270066,
          23.928482375992026,
          23.9278305272557,
          23.927701818269547,
          23.925509613602156,
          23.92445503029625,
          23.923649561157095,
          23.921677407337,
          23.921262217059084,
          23.917031428127128,
          23.915225350418197,
          23.912887829153537,
          23.912867069639642,
          23.91232732227835,
          23.90930058515235,
          23.908897850582772,
          23.90710838048496,
          23.902184223788886,
          23.900963564371814,
          23.899149182857325,
          23.897990801981944,
          23.896168116661897,
          23.895906546786808,
          23.895483052703337,
          23.892012061979965,
          23.891916568216047,
          23.891488922229794,
          23.88803869102032,
          23.887316259936746,
          23.886822183506027,
          23.884430687505237,
          23.87992587298986,
          23.8798179235176,
          23.877085971488917,
          23.874445361321378,
          23.872282219973442,
          23.866191378596426,
          23.86382894591509,
          23.861890007317225,
          23.852203618133466,
          23.849683413146522,
          23.8471382967429,
          23.84088968306028,
          23.83569565268356,
          23.82842567091727,
          23.82059933417857,
          23.817149102969097,
          23.816966419246814,
          23.814329960982054,
          23.811344742883843,
          23.81014899488345,
          23.80885775311913,
          23.808695828910743,
          23.807026763993527,
          23.804722457951097,
          23.801521340908373,
          23.794251359142077,
          23.792985028794437,
          23.78812315064005,
          23.779200711567658,
          23.777888710289446,
          23.774210124427118,
          23.7726199456627,
          23.771635944704045,
          23.76823138442514,
          23.760471478130906,
          23.75762327282441,
          23.754135674489923,
          23.73176107041308,
          23.721605516215273,
          23.71688895465816,
          23.712168241198263,
          23.707513958182837,
          23.706891172765964,
          23.704935626556985,
          23.699828786138628,
          23.690466245371642,
          23.6841221379251,
          23.679347449729075,
          23.66721974171118,
          23.636279762200946,
          23.627809880531476,
          23.62271964772424,
          23.61689868002787,
          23.5955246845208,
          23.565361110830267,
          23.563604855954686,
          23.55492322724348,
          23.537809083987824,
          23.53179712876361,
          23.525087653872504,
          23.52139661230184,
          23.51337513613252,
          23.5043779628101,
          23.47557206132835,
          23.47063960082672,
          23.456826220280483,
          23.446089399693598,
          23.441451724289287,
          23.425533329034025,
          23.411848657473943,
          23.40242383816527,
          23.363478990096834,
          23.356910679900217,
          23.34530195972971,
          23.28564742059887,
          23.271742698191495,
          23.198494829361714,
          23.140787532634295,
          23.138350365702934,
          23.102100102538166,
          23.078002458807976,
          23.07239739005612,
          23.065301788206554,
          23.04967817804861,
          23.045547034783354,
          23.04522733826936,
          23.017268424954555,
          23.016085132662496,
          22.93888050048419,
          22.897988410012328,
          22.878985150992154,
          22.862942198653517,
          22.819089801500123,
          22.719610210911668,
          22.654238501653936,
          22.59061889536901,
          22.565404389791226,
          22.551424933133823,
          22.50783410585552,
          22.505944990091002,
          22.49976280685285,
          22.498168476185654,
          22.46577117879994,
          22.440087508208112,
          22.434748161234126,
          22.356397603888766,
          22.331905529394557,
          22.28001089655795,
          22.263851690941493,
          22.22753084542948,
          22.1970185119055,
          22.14734514705574,
          22.141553242678825,
          22.103762623582995,
          22.094653348885537,
          22.05996835306851,
          22.035156582060303,
          22.025383002918183,
          22.010544102385495,
          21.99941285103459,
          21.919717077188793,
          21.873381842173465,
          21.835483273605377,
          21.773997745348932,
          21.71590016976027,
          21.680484439054116,
          21.678985602150842,
          21.66994690980063,
          21.663125333534484,
          21.653584260947998,
          21.616221287838417,
          21.61503384364358,
          21.59508810269254,
          21.422360643274303,
          21.378744904579325,
          21.357599263725106,
          21.318276592503768,
          21.270048089821152,
          21.243974140368085,
          21.20932651167607,
          21.1424891807373,
          21.11739508034011,
          21.105840334905736,
          20.974353725792803,
          20.959083027371086,
          20.908379990632096,
          20.847758058153712,
          20.81445564596214,
          20.778296724658517,
          20.714706181693042,
          20.68842048519824,
          20.648582978032284,
          20.628305084858912,
          20.608579394755168,
          20.600624349030312,
          20.507256359332768,
          20.443885867214586,
          20.41399631910748,
          20.382703427861017,
          20.303468515223702,
          20.21874478711235,
          20.199944971328353,
          20.15975870432895,
          20.155689839605387,
          20.13420789462606,
          20.083139490442502,
          20.04906067243123,
          19.99572117742748,
          19.95448863092773,
          19.915851023664953,
          19.912404944358258,
          19.895095661671977,
          19.855337040658828,
          19.784464060218724,
          19.602278566269582,
          19.53485166513617,
          19.429725486768067,
          19.421131048015226,
          19.399416596480265,
          19.226074655450716,
          19.128754054307418,
          19.071125643732806,
          19.030810667747247,
          18.948187802442146,
          18.717715679171476,
          18.604451771356242,
          18.486247099233815,
          18.418820198100406,
          18.35409203377344,
          18.256397761380022,
          18.19939213622228,
          18.12237433966903,
          18.081893287572306,
          18.081893287572306,
          18.045730214365904,
          18.03846438450239,
          17.79553655289427,
          17.73168028815093,
          17.685677205357937,
          17.566226962401764,
          17.44806380930713,
          17.442209626388525,
          17.05301025987092,
          16.61502603569829,
          16.52455607414059,
          16.352833375194912,
          16.22296185626307,
          15.891598495459036,
          15.694050961227035,
          15.431941338779238,
          14.877703836790381,
          14.651009945048742,
          14.21460344393219,
          13.9050375727187,
          13.735681458357133,
          13.634208954434685,
          13.262821250839636,
          12.135496608244582,
          8.396251446313475,
          8.109811673579857,
          6.790586084532443,
          5.039770201592297,
          2.8020191607133285,
          -4.166949654091475,
          -6.4975372411122585,
          -12.90894703170489
         ],
         "yaxis": "y"
        }
       ],
       "layout": {
        "legend": {
         "tracegroupgap": 0
        },
        "margin": {
         "t": 60
        },
        "template": {
         "data": {
          "bar": [
           {
            "error_x": {
             "color": "#2a3f5f"
            },
            "error_y": {
             "color": "#2a3f5f"
            },
            "marker": {
             "line": {
              "color": "#E5ECF6",
              "width": 0.5
             }
            },
            "type": "bar"
           }
          ],
          "barpolar": [
           {
            "marker": {
             "line": {
              "color": "#E5ECF6",
              "width": 0.5
             }
            },
            "type": "barpolar"
           }
          ],
          "carpet": [
           {
            "aaxis": {
             "endlinecolor": "#2a3f5f",
             "gridcolor": "white",
             "linecolor": "white",
             "minorgridcolor": "white",
             "startlinecolor": "#2a3f5f"
            },
            "baxis": {
             "endlinecolor": "#2a3f5f",
             "gridcolor": "white",
             "linecolor": "white",
             "minorgridcolor": "white",
             "startlinecolor": "#2a3f5f"
            },
            "type": "carpet"
           }
          ],
          "choropleth": [
           {
            "colorbar": {
             "outlinewidth": 0,
             "ticks": ""
            },
            "type": "choropleth"
           }
          ],
          "contour": [
           {
            "colorbar": {
             "outlinewidth": 0,
             "ticks": ""
            },
            "colorscale": [
             [
              0,
              "#0d0887"
             ],
             [
              0.1111111111111111,
              "#46039f"
             ],
             [
              0.2222222222222222,
              "#7201a8"
             ],
             [
              0.3333333333333333,
              "#9c179e"
             ],
             [
              0.4444444444444444,
              "#bd3786"
             ],
             [
              0.5555555555555556,
              "#d8576b"
             ],
             [
              0.6666666666666666,
              "#ed7953"
             ],
             [
              0.7777777777777778,
              "#fb9f3a"
             ],
             [
              0.8888888888888888,
              "#fdca26"
             ],
             [
              1,
              "#f0f921"
             ]
            ],
            "type": "contour"
           }
          ],
          "contourcarpet": [
           {
            "colorbar": {
             "outlinewidth": 0,
             "ticks": ""
            },
            "type": "contourcarpet"
           }
          ],
          "heatmap": [
           {
            "colorbar": {
             "outlinewidth": 0,
             "ticks": ""
            },
            "colorscale": [
             [
              0,
              "#0d0887"
             ],
             [
              0.1111111111111111,
              "#46039f"
             ],
             [
              0.2222222222222222,
              "#7201a8"
             ],
             [
              0.3333333333333333,
              "#9c179e"
             ],
             [
              0.4444444444444444,
              "#bd3786"
             ],
             [
              0.5555555555555556,
              "#d8576b"
             ],
             [
              0.6666666666666666,
              "#ed7953"
             ],
             [
              0.7777777777777778,
              "#fb9f3a"
             ],
             [
              0.8888888888888888,
              "#fdca26"
             ],
             [
              1,
              "#f0f921"
             ]
            ],
            "type": "heatmap"
           }
          ],
          "heatmapgl": [
           {
            "colorbar": {
             "outlinewidth": 0,
             "ticks": ""
            },
            "colorscale": [
             [
              0,
              "#0d0887"
             ],
             [
              0.1111111111111111,
              "#46039f"
             ],
             [
              0.2222222222222222,
              "#7201a8"
             ],
             [
              0.3333333333333333,
              "#9c179e"
             ],
             [
              0.4444444444444444,
              "#bd3786"
             ],
             [
              0.5555555555555556,
              "#d8576b"
             ],
             [
              0.6666666666666666,
              "#ed7953"
             ],
             [
              0.7777777777777778,
              "#fb9f3a"
             ],
             [
              0.8888888888888888,
              "#fdca26"
             ],
             [
              1,
              "#f0f921"
             ]
            ],
            "type": "heatmapgl"
           }
          ],
          "histogram": [
           {
            "marker": {
             "colorbar": {
              "outlinewidth": 0,
              "ticks": ""
             }
            },
            "type": "histogram"
           }
          ],
          "histogram2d": [
           {
            "colorbar": {
             "outlinewidth": 0,
             "ticks": ""
            },
            "colorscale": [
             [
              0,
              "#0d0887"
             ],
             [
              0.1111111111111111,
              "#46039f"
             ],
             [
              0.2222222222222222,
              "#7201a8"
             ],
             [
              0.3333333333333333,
              "#9c179e"
             ],
             [
              0.4444444444444444,
              "#bd3786"
             ],
             [
              0.5555555555555556,
              "#d8576b"
             ],
             [
              0.6666666666666666,
              "#ed7953"
             ],
             [
              0.7777777777777778,
              "#fb9f3a"
             ],
             [
              0.8888888888888888,
              "#fdca26"
             ],
             [
              1,
              "#f0f921"
             ]
            ],
            "type": "histogram2d"
           }
          ],
          "histogram2dcontour": [
           {
            "colorbar": {
             "outlinewidth": 0,
             "ticks": ""
            },
            "colorscale": [
             [
              0,
              "#0d0887"
             ],
             [
              0.1111111111111111,
              "#46039f"
             ],
             [
              0.2222222222222222,
              "#7201a8"
             ],
             [
              0.3333333333333333,
              "#9c179e"
             ],
             [
              0.4444444444444444,
              "#bd3786"
             ],
             [
              0.5555555555555556,
              "#d8576b"
             ],
             [
              0.6666666666666666,
              "#ed7953"
             ],
             [
              0.7777777777777778,
              "#fb9f3a"
             ],
             [
              0.8888888888888888,
              "#fdca26"
             ],
             [
              1,
              "#f0f921"
             ]
            ],
            "type": "histogram2dcontour"
           }
          ],
          "mesh3d": [
           {
            "colorbar": {
             "outlinewidth": 0,
             "ticks": ""
            },
            "type": "mesh3d"
           }
          ],
          "parcoords": [
           {
            "line": {
             "colorbar": {
              "outlinewidth": 0,
              "ticks": ""
             }
            },
            "type": "parcoords"
           }
          ],
          "pie": [
           {
            "automargin": true,
            "type": "pie"
           }
          ],
          "scatter": [
           {
            "marker": {
             "colorbar": {
              "outlinewidth": 0,
              "ticks": ""
             }
            },
            "type": "scatter"
           }
          ],
          "scatter3d": [
           {
            "line": {
             "colorbar": {
              "outlinewidth": 0,
              "ticks": ""
             }
            },
            "marker": {
             "colorbar": {
              "outlinewidth": 0,
              "ticks": ""
             }
            },
            "type": "scatter3d"
           }
          ],
          "scattercarpet": [
           {
            "marker": {
             "colorbar": {
              "outlinewidth": 0,
              "ticks": ""
             }
            },
            "type": "scattercarpet"
           }
          ],
          "scattergeo": [
           {
            "marker": {
             "colorbar": {
              "outlinewidth": 0,
              "ticks": ""
             }
            },
            "type": "scattergeo"
           }
          ],
          "scattergl": [
           {
            "marker": {
             "colorbar": {
              "outlinewidth": 0,
              "ticks": ""
             }
            },
            "type": "scattergl"
           }
          ],
          "scattermapbox": [
           {
            "marker": {
             "colorbar": {
              "outlinewidth": 0,
              "ticks": ""
             }
            },
            "type": "scattermapbox"
           }
          ],
          "scatterpolar": [
           {
            "marker": {
             "colorbar": {
              "outlinewidth": 0,
              "ticks": ""
             }
            },
            "type": "scatterpolar"
           }
          ],
          "scatterpolargl": [
           {
            "marker": {
             "colorbar": {
              "outlinewidth": 0,
              "ticks": ""
             }
            },
            "type": "scatterpolargl"
           }
          ],
          "scatterternary": [
           {
            "marker": {
             "colorbar": {
              "outlinewidth": 0,
              "ticks": ""
             }
            },
            "type": "scatterternary"
           }
          ],
          "surface": [
           {
            "colorbar": {
             "outlinewidth": 0,
             "ticks": ""
            },
            "colorscale": [
             [
              0,
              "#0d0887"
             ],
             [
              0.1111111111111111,
              "#46039f"
             ],
             [
              0.2222222222222222,
              "#7201a8"
             ],
             [
              0.3333333333333333,
              "#9c179e"
             ],
             [
              0.4444444444444444,
              "#bd3786"
             ],
             [
              0.5555555555555556,
              "#d8576b"
             ],
             [
              0.6666666666666666,
              "#ed7953"
             ],
             [
              0.7777777777777778,
              "#fb9f3a"
             ],
             [
              0.8888888888888888,
              "#fdca26"
             ],
             [
              1,
              "#f0f921"
             ]
            ],
            "type": "surface"
           }
          ],
          "table": [
           {
            "cells": {
             "fill": {
              "color": "#EBF0F8"
             },
             "line": {
              "color": "white"
             }
            },
            "header": {
             "fill": {
              "color": "#C8D4E3"
             },
             "line": {
              "color": "white"
             }
            },
            "type": "table"
           }
          ]
         },
         "layout": {
          "annotationdefaults": {
           "arrowcolor": "#2a3f5f",
           "arrowhead": 0,
           "arrowwidth": 1
          },
          "autotypenumbers": "strict",
          "coloraxis": {
           "colorbar": {
            "outlinewidth": 0,
            "ticks": ""
           }
          },
          "colorscale": {
           "diverging": [
            [
             0,
             "#8e0152"
            ],
            [
             0.1,
             "#c51b7d"
            ],
            [
             0.2,
             "#de77ae"
            ],
            [
             0.3,
             "#f1b6da"
            ],
            [
             0.4,
             "#fde0ef"
            ],
            [
             0.5,
             "#f7f7f7"
            ],
            [
             0.6,
             "#e6f5d0"
            ],
            [
             0.7,
             "#b8e186"
            ],
            [
             0.8,
             "#7fbc41"
            ],
            [
             0.9,
             "#4d9221"
            ],
            [
             1,
             "#276419"
            ]
           ],
           "sequential": [
            [
             0,
             "#0d0887"
            ],
            [
             0.1111111111111111,
             "#46039f"
            ],
            [
             0.2222222222222222,
             "#7201a8"
            ],
            [
             0.3333333333333333,
             "#9c179e"
            ],
            [
             0.4444444444444444,
             "#bd3786"
            ],
            [
             0.5555555555555556,
             "#d8576b"
            ],
            [
             0.6666666666666666,
             "#ed7953"
            ],
            [
             0.7777777777777778,
             "#fb9f3a"
            ],
            [
             0.8888888888888888,
             "#fdca26"
            ],
            [
             1,
             "#f0f921"
            ]
           ],
           "sequentialminus": [
            [
             0,
             "#0d0887"
            ],
            [
             0.1111111111111111,
             "#46039f"
            ],
            [
             0.2222222222222222,
             "#7201a8"
            ],
            [
             0.3333333333333333,
             "#9c179e"
            ],
            [
             0.4444444444444444,
             "#bd3786"
            ],
            [
             0.5555555555555556,
             "#d8576b"
            ],
            [
             0.6666666666666666,
             "#ed7953"
            ],
            [
             0.7777777777777778,
             "#fb9f3a"
            ],
            [
             0.8888888888888888,
             "#fdca26"
            ],
            [
             1,
             "#f0f921"
            ]
           ]
          },
          "colorway": [
           "#636efa",
           "#EF553B",
           "#00cc96",
           "#ab63fa",
           "#FFA15A",
           "#19d3f3",
           "#FF6692",
           "#B6E880",
           "#FF97FF",
           "#FECB52"
          ],
          "font": {
           "color": "#2a3f5f"
          },
          "geo": {
           "bgcolor": "white",
           "lakecolor": "white",
           "landcolor": "#E5ECF6",
           "showlakes": true,
           "showland": true,
           "subunitcolor": "white"
          },
          "hoverlabel": {
           "align": "left"
          },
          "hovermode": "closest",
          "mapbox": {
           "style": "light"
          },
          "paper_bgcolor": "white",
          "plot_bgcolor": "#E5ECF6",
          "polar": {
           "angularaxis": {
            "gridcolor": "white",
            "linecolor": "white",
            "ticks": ""
           },
           "bgcolor": "#E5ECF6",
           "radialaxis": {
            "gridcolor": "white",
            "linecolor": "white",
            "ticks": ""
           }
          },
          "scene": {
           "xaxis": {
            "backgroundcolor": "#E5ECF6",
            "gridcolor": "white",
            "gridwidth": 2,
            "linecolor": "white",
            "showbackground": true,
            "ticks": "",
            "zerolinecolor": "white"
           },
           "yaxis": {
            "backgroundcolor": "#E5ECF6",
            "gridcolor": "white",
            "gridwidth": 2,
            "linecolor": "white",
            "showbackground": true,
            "ticks": "",
            "zerolinecolor": "white"
           },
           "zaxis": {
            "backgroundcolor": "#E5ECF6",
            "gridcolor": "white",
            "gridwidth": 2,
            "linecolor": "white",
            "showbackground": true,
            "ticks": "",
            "zerolinecolor": "white"
           }
          },
          "shapedefaults": {
           "line": {
            "color": "#2a3f5f"
           }
          },
          "ternary": {
           "aaxis": {
            "gridcolor": "white",
            "linecolor": "white",
            "ticks": ""
           },
           "baxis": {
            "gridcolor": "white",
            "linecolor": "white",
            "ticks": ""
           },
           "bgcolor": "#E5ECF6",
           "caxis": {
            "gridcolor": "white",
            "linecolor": "white",
            "ticks": ""
           }
          },
          "title": {
           "x": 0.05
          },
          "xaxis": {
           "automargin": true,
           "gridcolor": "white",
           "linecolor": "white",
           "ticks": "",
           "title": {
            "standoff": 15
           },
           "zerolinecolor": "white",
           "zerolinewidth": 2
          },
          "yaxis": {
           "automargin": true,
           "gridcolor": "white",
           "linecolor": "white",
           "ticks": "",
           "title": {
            "standoff": 15
           },
           "zerolinecolor": "white",
           "zerolinewidth": 2
          }
         }
        },
        "xaxis": {
         "anchor": "y",
         "domain": [
          0,
          1
         ],
         "title": {
          "text": "crim"
         }
        },
        "yaxis": {
         "anchor": "x",
         "domain": [
          0,
          1
         ],
         "title": {
          "text": "medv"
         }
        }
       }
      }
     },
     "metadata": {}
    }
   ],
   "source": [
    "fig = px.scatter(\n",
    "    df_boston_reald_estate, \n",
    "    x='crim', \n",
    "    y='medv', \n",
    "    opacity=0.65,\n",
    "    trendline='ols', \n",
    "    trendline_color_override='darkblue'\n",
    ")\n",
    "fig.show()"
   ]
  },
  {
   "source": [
    "\n",
    "### Zadanie 2 (15ptk) \n",
    "\n",
    "Stwórz Dashboard, który będzie zawierał: \n",
    "\n",
    "Wykres słupkowy dla parametrów z modelu liniowego \n",
    "\n",
    "Histogram dla wybranej kolumny danych \n",
    "\n",
    "Wykres rozrzutu dla dowolnej pary kolumn "
   ],
   "cell_type": "markdown",
   "metadata": {}
  },
  {
   "cell_type": "code",
   "execution_count": 40,
   "metadata": {},
   "outputs": [
    {
     "output_type": "execute_result",
     "data": {
      "text/plain": [
       "         crim    zn     indus       nox        rm       age       dis  \\\n",
       "0    0.000000  0.18  0.067815  0.314815  0.577505  0.641607  0.269203   \n",
       "1    0.000236  0.00  0.242302  0.172840  0.547998  0.782698  0.348962   \n",
       "2    0.000236  0.00  0.242302  0.172840  0.694386  0.599382  0.348962   \n",
       "3    0.000293  0.00  0.063050  0.150206  0.658555  0.441813  0.448545   \n",
       "4    0.000705  0.00  0.063050  0.150206  0.687105  0.528321  0.448545   \n",
       "..        ...   ...       ...       ...       ...       ...       ...   \n",
       "501  0.000633  0.00  0.420455  0.386831  0.580954  0.681771  0.122671   \n",
       "502  0.000438  0.00  0.420455  0.386831  0.490324  0.760041  0.105293   \n",
       "503  0.000612  0.00  0.420455  0.386831  0.654340  0.907312  0.094381   \n",
       "504  0.001161  0.00  0.420455  0.386831  0.619467  0.889804  0.114514   \n",
       "505  0.000462  0.00  0.420455  0.386831  0.473079  0.802266  0.125072   \n",
       "\n",
       "          rad       tax   ptratio         b     lstat  medv  \n",
       "0    0.000000  0.208015  0.287234  1.000000  0.089680  24.0  \n",
       "1    0.043478  0.104962  0.553191  1.000000  0.204470  21.6  \n",
       "2    0.043478  0.104962  0.553191  0.989737  0.063466  34.7  \n",
       "3    0.086957  0.066794  0.648936  0.994276  0.033389  33.4  \n",
       "4    0.086957  0.066794  0.648936  1.000000  0.099338  36.2  \n",
       "..        ...       ...       ...       ...       ...   ...  \n",
       "501  0.000000  0.164122  0.893617  0.987619  0.219095  22.4  \n",
       "502  0.000000  0.164122  0.893617  1.000000  0.202815  20.6  \n",
       "503  0.000000  0.164122  0.893617  1.000000  0.107892  23.9  \n",
       "504  0.000000  0.164122  0.893617  0.991301  0.131071  22.0  \n",
       "505  0.000000  0.164122  0.893617  1.000000  0.169702  11.9  \n",
       "\n",
       "[506 rows x 13 columns]"
      ],
      "text/html": "<div>\n<style scoped>\n    .dataframe tbody tr th:only-of-type {\n        vertical-align: middle;\n    }\n\n    .dataframe tbody tr th {\n        vertical-align: top;\n    }\n\n    .dataframe thead th {\n        text-align: right;\n    }\n</style>\n<table border=\"1\" class=\"dataframe\">\n  <thead>\n    <tr style=\"text-align: right;\">\n      <th></th>\n      <th>crim</th>\n      <th>zn</th>\n      <th>indus</th>\n      <th>nox</th>\n      <th>rm</th>\n      <th>age</th>\n      <th>dis</th>\n      <th>rad</th>\n      <th>tax</th>\n      <th>ptratio</th>\n      <th>b</th>\n      <th>lstat</th>\n      <th>medv</th>\n    </tr>\n  </thead>\n  <tbody>\n    <tr>\n      <th>0</th>\n      <td>0.000000</td>\n      <td>0.18</td>\n      <td>0.067815</td>\n      <td>0.314815</td>\n      <td>0.577505</td>\n      <td>0.641607</td>\n      <td>0.269203</td>\n      <td>0.000000</td>\n      <td>0.208015</td>\n      <td>0.287234</td>\n      <td>1.000000</td>\n      <td>0.089680</td>\n      <td>24.0</td>\n    </tr>\n    <tr>\n      <th>1</th>\n      <td>0.000236</td>\n      <td>0.00</td>\n      <td>0.242302</td>\n      <td>0.172840</td>\n      <td>0.547998</td>\n      <td>0.782698</td>\n      <td>0.348962</td>\n      <td>0.043478</td>\n      <td>0.104962</td>\n      <td>0.553191</td>\n      <td>1.000000</td>\n      <td>0.204470</td>\n      <td>21.6</td>\n    </tr>\n    <tr>\n      <th>2</th>\n      <td>0.000236</td>\n      <td>0.00</td>\n      <td>0.242302</td>\n      <td>0.172840</td>\n      <td>0.694386</td>\n      <td>0.599382</td>\n      <td>0.348962</td>\n      <td>0.043478</td>\n      <td>0.104962</td>\n      <td>0.553191</td>\n      <td>0.989737</td>\n      <td>0.063466</td>\n      <td>34.7</td>\n    </tr>\n    <tr>\n      <th>3</th>\n      <td>0.000293</td>\n      <td>0.00</td>\n      <td>0.063050</td>\n      <td>0.150206</td>\n      <td>0.658555</td>\n      <td>0.441813</td>\n      <td>0.448545</td>\n      <td>0.086957</td>\n      <td>0.066794</td>\n      <td>0.648936</td>\n      <td>0.994276</td>\n      <td>0.033389</td>\n      <td>33.4</td>\n    </tr>\n    <tr>\n      <th>4</th>\n      <td>0.000705</td>\n      <td>0.00</td>\n      <td>0.063050</td>\n      <td>0.150206</td>\n      <td>0.687105</td>\n      <td>0.528321</td>\n      <td>0.448545</td>\n      <td>0.086957</td>\n      <td>0.066794</td>\n      <td>0.648936</td>\n      <td>1.000000</td>\n      <td>0.099338</td>\n      <td>36.2</td>\n    </tr>\n    <tr>\n      <th>...</th>\n      <td>...</td>\n      <td>...</td>\n      <td>...</td>\n      <td>...</td>\n      <td>...</td>\n      <td>...</td>\n      <td>...</td>\n      <td>...</td>\n      <td>...</td>\n      <td>...</td>\n      <td>...</td>\n      <td>...</td>\n      <td>...</td>\n    </tr>\n    <tr>\n      <th>501</th>\n      <td>0.000633</td>\n      <td>0.00</td>\n      <td>0.420455</td>\n      <td>0.386831</td>\n      <td>0.580954</td>\n      <td>0.681771</td>\n      <td>0.122671</td>\n      <td>0.000000</td>\n      <td>0.164122</td>\n      <td>0.893617</td>\n      <td>0.987619</td>\n      <td>0.219095</td>\n      <td>22.4</td>\n    </tr>\n    <tr>\n      <th>502</th>\n      <td>0.000438</td>\n      <td>0.00</td>\n      <td>0.420455</td>\n      <td>0.386831</td>\n      <td>0.490324</td>\n      <td>0.760041</td>\n      <td>0.105293</td>\n      <td>0.000000</td>\n      <td>0.164122</td>\n      <td>0.893617</td>\n      <td>1.000000</td>\n      <td>0.202815</td>\n      <td>20.6</td>\n    </tr>\n    <tr>\n      <th>503</th>\n      <td>0.000612</td>\n      <td>0.00</td>\n      <td>0.420455</td>\n      <td>0.386831</td>\n      <td>0.654340</td>\n      <td>0.907312</td>\n      <td>0.094381</td>\n      <td>0.000000</td>\n      <td>0.164122</td>\n      <td>0.893617</td>\n      <td>1.000000</td>\n      <td>0.107892</td>\n      <td>23.9</td>\n    </tr>\n    <tr>\n      <th>504</th>\n      <td>0.001161</td>\n      <td>0.00</td>\n      <td>0.420455</td>\n      <td>0.386831</td>\n      <td>0.619467</td>\n      <td>0.889804</td>\n      <td>0.114514</td>\n      <td>0.000000</td>\n      <td>0.164122</td>\n      <td>0.893617</td>\n      <td>0.991301</td>\n      <td>0.131071</td>\n      <td>22.0</td>\n    </tr>\n    <tr>\n      <th>505</th>\n      <td>0.000462</td>\n      <td>0.00</td>\n      <td>0.420455</td>\n      <td>0.386831</td>\n      <td>0.473079</td>\n      <td>0.802266</td>\n      <td>0.125072</td>\n      <td>0.000000</td>\n      <td>0.164122</td>\n      <td>0.893617</td>\n      <td>1.000000</td>\n      <td>0.169702</td>\n      <td>11.9</td>\n    </tr>\n  </tbody>\n</table>\n<p>506 rows × 13 columns</p>\n</div>"
     },
     "metadata": {},
     "execution_count": 40
    }
   ],
   "source": [
    "df_boston_reald_estate"
   ]
  },
  {
   "cell_type": "code",
   "execution_count": null,
   "metadata": {},
   "outputs": [],
   "source": []
  }
 ],
 "metadata": {
  "kernelspec": {
   "display_name": "Python 3",
   "language": "python",
   "name": "python3"
  },
  "language_info": {
   "codemirror_mode": {
    "name": "ipython",
    "version": 3
   },
   "file_extension": ".py",
   "mimetype": "text/x-python",
   "name": "python",
   "nbconvert_exporter": "python",
   "pygments_lexer": "ipython3",
   "version": "3.8.5-final"
  }
 },
 "nbformat": 4,
 "nbformat_minor": 4
}